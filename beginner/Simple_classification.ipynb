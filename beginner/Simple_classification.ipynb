{
  "nbformat": 4,
  "nbformat_minor": 0,
  "metadata": {
    "colab": {
      "provenance": []
    },
    "kernelspec": {
      "name": "python3",
      "display_name": "Python 3"
    },
    "language_info": {
      "name": "python"
    }
  },
  "cells": [
    {
      "cell_type": "code",
      "execution_count": 2,
      "metadata": {
        "colab": {
          "base_uri": "https://localhost:8080/",
          "height": 35
        },
        "id": "T_tKP-BLQKuk",
        "outputId": "b766f061-6d3e-40f9-d1fa-6d609336898c"
      },
      "outputs": [
        {
          "output_type": "execute_result",
          "data": {
            "text/plain": [
              "'2.15.0'"
            ],
            "application/vnd.google.colaboratory.intrinsic+json": {
              "type": "string"
            }
          },
          "metadata": {},
          "execution_count": 2
        }
      ],
      "source": [
        "# Check tenserflow version\n",
        "import tensorflow as tf\n",
        "tf.__version__"
      ]
    },
    {
      "cell_type": "code",
      "source": [
        "# Take simple dataset\n",
        "from sklearn.datasets import load_breast_cancer\n",
        "\n",
        "data = load_breast_cancer()\n",
        "X, y = data[\"data\"], data[\"target\"]"
      ],
      "metadata": {
        "id": "bXLVJ4pMR-G0"
      },
      "execution_count": 5,
      "outputs": []
    },
    {
      "cell_type": "code",
      "source": [
        "from sklearn.model_selection import train_test_split\n",
        "from sklearn.preprocessing import StandardScaler\n",
        "\n",
        "# standardization for uniform (symmetric learning) and fast convergence\n",
        "std = StandardScaler()\n",
        "X = std.fit_transform(X)\n",
        "X_train, X_test, y_train, y_test = train_test_split(\n",
        "  X, y, test_size=.3, stratify=y\n",
        ")"
      ],
      "metadata": {
        "id": "lELpdkg5Xo04"
      },
      "execution_count": 51,
      "outputs": []
    },
    {
      "cell_type": "code",
      "source": [
        "# (m, n) - (row, column)\n",
        "m, n = X.shape"
      ],
      "metadata": {
        "id": "ETbUQKuIV6Kp"
      },
      "execution_count": 52,
      "outputs": []
    },
    {
      "cell_type": "code",
      "source": [
        "# building simple tf model for classification problem\n",
        "model = tf.keras.models.Sequential([\n",
        "    tf.keras.layers.Input(shape=(n, )),\n",
        "    tf.keras.layers.Dense(1, activation=\"sigmoid\")\n",
        "])\n",
        "callback = tf.keras.callbacks.EarlyStopping(monitor='val_loss', patience=5)"
      ],
      "metadata": {
        "id": "_7ckYT7XT2VU"
      },
      "execution_count": 98,
      "outputs": []
    },
    {
      "cell_type": "code",
      "source": [
        "model.compile(\n",
        "    optimizer=\"adam\",\n",
        "    loss=\"binary_crossentropy\",\n",
        "    metrics=\"accuracy\",\n",
        ")"
      ],
      "metadata": {
        "id": "C-y-H47UVEjW"
      },
      "execution_count": 99,
      "outputs": []
    },
    {
      "cell_type": "code",
      "source": [
        "history = model.fit(\n",
        "    X_train, y_train,\n",
        "    validation_data=(X_test, y_test),\n",
        "    epochs=200,\n",
        "    callbacks=[callback]\n",
        ")"
      ],
      "metadata": {
        "colab": {
          "base_uri": "https://localhost:8080/"
        },
        "id": "vsAbWc1pWrIH",
        "outputId": "cc697692-0e83-48d9-efe2-012cd86a878b"
      },
      "execution_count": 100,
      "outputs": [
        {
          "output_type": "stream",
          "name": "stdout",
          "text": [
            "Epoch 1/200\n",
            "13/13 [==============================] - 1s 21ms/step - loss: 0.3765 - accuracy: 0.8945 - val_loss: 0.3428 - val_accuracy: 0.9064\n",
            "Epoch 2/200\n",
            "13/13 [==============================] - 0s 6ms/step - loss: 0.3389 - accuracy: 0.9146 - val_loss: 0.3121 - val_accuracy: 0.9240\n",
            "Epoch 3/200\n",
            "13/13 [==============================] - 0s 6ms/step - loss: 0.3088 - accuracy: 0.9221 - val_loss: 0.2876 - val_accuracy: 0.9240\n",
            "Epoch 4/200\n",
            "13/13 [==============================] - 0s 6ms/step - loss: 0.2854 - accuracy: 0.9322 - val_loss: 0.2673 - val_accuracy: 0.9298\n",
            "Epoch 5/200\n",
            "13/13 [==============================] - 0s 6ms/step - loss: 0.2656 - accuracy: 0.9372 - val_loss: 0.2510 - val_accuracy: 0.9298\n",
            "Epoch 6/200\n",
            "13/13 [==============================] - 0s 5ms/step - loss: 0.2495 - accuracy: 0.9447 - val_loss: 0.2373 - val_accuracy: 0.9298\n",
            "Epoch 7/200\n",
            "13/13 [==============================] - 0s 5ms/step - loss: 0.2360 - accuracy: 0.9472 - val_loss: 0.2259 - val_accuracy: 0.9357\n",
            "Epoch 8/200\n",
            "13/13 [==============================] - 0s 5ms/step - loss: 0.2248 - accuracy: 0.9497 - val_loss: 0.2160 - val_accuracy: 0.9357\n",
            "Epoch 9/200\n",
            "13/13 [==============================] - 0s 5ms/step - loss: 0.2147 - accuracy: 0.9497 - val_loss: 0.2069 - val_accuracy: 0.9357\n",
            "Epoch 10/200\n",
            "13/13 [==============================] - 0s 5ms/step - loss: 0.2056 - accuracy: 0.9548 - val_loss: 0.1992 - val_accuracy: 0.9357\n",
            "Epoch 11/200\n",
            "13/13 [==============================] - 0s 6ms/step - loss: 0.1977 - accuracy: 0.9573 - val_loss: 0.1922 - val_accuracy: 0.9415\n",
            "Epoch 12/200\n",
            "13/13 [==============================] - 0s 7ms/step - loss: 0.1906 - accuracy: 0.9573 - val_loss: 0.1862 - val_accuracy: 0.9415\n",
            "Epoch 13/200\n",
            "13/13 [==============================] - 0s 6ms/step - loss: 0.1841 - accuracy: 0.9573 - val_loss: 0.1807 - val_accuracy: 0.9474\n",
            "Epoch 14/200\n",
            "13/13 [==============================] - 0s 8ms/step - loss: 0.1784 - accuracy: 0.9573 - val_loss: 0.1754 - val_accuracy: 0.9474\n",
            "Epoch 15/200\n",
            "13/13 [==============================] - 0s 6ms/step - loss: 0.1730 - accuracy: 0.9598 - val_loss: 0.1706 - val_accuracy: 0.9474\n",
            "Epoch 16/200\n",
            "13/13 [==============================] - 0s 5ms/step - loss: 0.1679 - accuracy: 0.9648 - val_loss: 0.1662 - val_accuracy: 0.9474\n",
            "Epoch 17/200\n",
            "13/13 [==============================] - 0s 6ms/step - loss: 0.1633 - accuracy: 0.9673 - val_loss: 0.1622 - val_accuracy: 0.9474\n",
            "Epoch 18/200\n",
            "13/13 [==============================] - 0s 6ms/step - loss: 0.1591 - accuracy: 0.9698 - val_loss: 0.1585 - val_accuracy: 0.9532\n",
            "Epoch 19/200\n",
            "13/13 [==============================] - 0s 5ms/step - loss: 0.1552 - accuracy: 0.9724 - val_loss: 0.1551 - val_accuracy: 0.9532\n",
            "Epoch 20/200\n",
            "13/13 [==============================] - 0s 6ms/step - loss: 0.1515 - accuracy: 0.9724 - val_loss: 0.1520 - val_accuracy: 0.9532\n",
            "Epoch 21/200\n",
            "13/13 [==============================] - 0s 5ms/step - loss: 0.1480 - accuracy: 0.9724 - val_loss: 0.1490 - val_accuracy: 0.9532\n",
            "Epoch 22/200\n",
            "13/13 [==============================] - 0s 6ms/step - loss: 0.1448 - accuracy: 0.9724 - val_loss: 0.1462 - val_accuracy: 0.9532\n",
            "Epoch 23/200\n",
            "13/13 [==============================] - 0s 5ms/step - loss: 0.1417 - accuracy: 0.9724 - val_loss: 0.1438 - val_accuracy: 0.9532\n",
            "Epoch 24/200\n",
            "13/13 [==============================] - 0s 7ms/step - loss: 0.1390 - accuracy: 0.9749 - val_loss: 0.1413 - val_accuracy: 0.9532\n",
            "Epoch 25/200\n",
            "13/13 [==============================] - 0s 7ms/step - loss: 0.1363 - accuracy: 0.9749 - val_loss: 0.1389 - val_accuracy: 0.9532\n",
            "Epoch 26/200\n",
            "13/13 [==============================] - 0s 7ms/step - loss: 0.1337 - accuracy: 0.9749 - val_loss: 0.1368 - val_accuracy: 0.9532\n",
            "Epoch 27/200\n",
            "13/13 [==============================] - 0s 5ms/step - loss: 0.1314 - accuracy: 0.9749 - val_loss: 0.1347 - val_accuracy: 0.9532\n",
            "Epoch 28/200\n",
            "13/13 [==============================] - 0s 6ms/step - loss: 0.1290 - accuracy: 0.9749 - val_loss: 0.1329 - val_accuracy: 0.9532\n",
            "Epoch 29/200\n",
            "13/13 [==============================] - 0s 5ms/step - loss: 0.1269 - accuracy: 0.9749 - val_loss: 0.1312 - val_accuracy: 0.9532\n",
            "Epoch 30/200\n",
            "13/13 [==============================] - 0s 7ms/step - loss: 0.1248 - accuracy: 0.9774 - val_loss: 0.1295 - val_accuracy: 0.9532\n",
            "Epoch 31/200\n",
            "13/13 [==============================] - 0s 5ms/step - loss: 0.1229 - accuracy: 0.9799 - val_loss: 0.1277 - val_accuracy: 0.9532\n",
            "Epoch 32/200\n",
            "13/13 [==============================] - 0s 5ms/step - loss: 0.1210 - accuracy: 0.9799 - val_loss: 0.1263 - val_accuracy: 0.9532\n",
            "Epoch 33/200\n",
            "13/13 [==============================] - 0s 5ms/step - loss: 0.1192 - accuracy: 0.9799 - val_loss: 0.1249 - val_accuracy: 0.9532\n",
            "Epoch 34/200\n",
            "13/13 [==============================] - 0s 6ms/step - loss: 0.1175 - accuracy: 0.9799 - val_loss: 0.1236 - val_accuracy: 0.9532\n",
            "Epoch 35/200\n",
            "13/13 [==============================] - 0s 6ms/step - loss: 0.1160 - accuracy: 0.9799 - val_loss: 0.1220 - val_accuracy: 0.9532\n",
            "Epoch 36/200\n",
            "13/13 [==============================] - 0s 7ms/step - loss: 0.1144 - accuracy: 0.9799 - val_loss: 0.1207 - val_accuracy: 0.9532\n",
            "Epoch 37/200\n",
            "13/13 [==============================] - 0s 7ms/step - loss: 0.1129 - accuracy: 0.9799 - val_loss: 0.1196 - val_accuracy: 0.9532\n",
            "Epoch 38/200\n",
            "13/13 [==============================] - 0s 7ms/step - loss: 0.1116 - accuracy: 0.9799 - val_loss: 0.1185 - val_accuracy: 0.9532\n",
            "Epoch 39/200\n",
            "13/13 [==============================] - 0s 6ms/step - loss: 0.1101 - accuracy: 0.9799 - val_loss: 0.1174 - val_accuracy: 0.9532\n",
            "Epoch 40/200\n",
            "13/13 [==============================] - 0s 6ms/step - loss: 0.1089 - accuracy: 0.9799 - val_loss: 0.1165 - val_accuracy: 0.9532\n",
            "Epoch 41/200\n",
            "13/13 [==============================] - 0s 5ms/step - loss: 0.1075 - accuracy: 0.9799 - val_loss: 0.1153 - val_accuracy: 0.9532\n",
            "Epoch 42/200\n",
            "13/13 [==============================] - 0s 6ms/step - loss: 0.1064 - accuracy: 0.9799 - val_loss: 0.1144 - val_accuracy: 0.9532\n",
            "Epoch 43/200\n",
            "13/13 [==============================] - 0s 5ms/step - loss: 0.1052 - accuracy: 0.9799 - val_loss: 0.1134 - val_accuracy: 0.9532\n",
            "Epoch 44/200\n",
            "13/13 [==============================] - 0s 6ms/step - loss: 0.1041 - accuracy: 0.9799 - val_loss: 0.1126 - val_accuracy: 0.9532\n",
            "Epoch 45/200\n",
            "13/13 [==============================] - 0s 5ms/step - loss: 0.1029 - accuracy: 0.9799 - val_loss: 0.1118 - val_accuracy: 0.9532\n",
            "Epoch 46/200\n",
            "13/13 [==============================] - 0s 6ms/step - loss: 0.1019 - accuracy: 0.9799 - val_loss: 0.1110 - val_accuracy: 0.9532\n",
            "Epoch 47/200\n",
            "13/13 [==============================] - 0s 6ms/step - loss: 0.1009 - accuracy: 0.9799 - val_loss: 0.1102 - val_accuracy: 0.9532\n",
            "Epoch 48/200\n",
            "13/13 [==============================] - 0s 6ms/step - loss: 0.0999 - accuracy: 0.9799 - val_loss: 0.1096 - val_accuracy: 0.9532\n",
            "Epoch 49/200\n",
            "13/13 [==============================] - 0s 7ms/step - loss: 0.0990 - accuracy: 0.9799 - val_loss: 0.1088 - val_accuracy: 0.9532\n",
            "Epoch 50/200\n",
            "13/13 [==============================] - 0s 6ms/step - loss: 0.0981 - accuracy: 0.9799 - val_loss: 0.1083 - val_accuracy: 0.9532\n",
            "Epoch 51/200\n",
            "13/13 [==============================] - 0s 7ms/step - loss: 0.0972 - accuracy: 0.9799 - val_loss: 0.1075 - val_accuracy: 0.9532\n",
            "Epoch 52/200\n",
            "13/13 [==============================] - 0s 6ms/step - loss: 0.0963 - accuracy: 0.9799 - val_loss: 0.1066 - val_accuracy: 0.9532\n",
            "Epoch 53/200\n",
            "13/13 [==============================] - 0s 6ms/step - loss: 0.0954 - accuracy: 0.9799 - val_loss: 0.1059 - val_accuracy: 0.9532\n",
            "Epoch 54/200\n",
            "13/13 [==============================] - 0s 6ms/step - loss: 0.0946 - accuracy: 0.9799 - val_loss: 0.1053 - val_accuracy: 0.9532\n",
            "Epoch 55/200\n",
            "13/13 [==============================] - 0s 5ms/step - loss: 0.0938 - accuracy: 0.9799 - val_loss: 0.1047 - val_accuracy: 0.9532\n",
            "Epoch 56/200\n",
            "13/13 [==============================] - 0s 6ms/step - loss: 0.0931 - accuracy: 0.9824 - val_loss: 0.1042 - val_accuracy: 0.9532\n",
            "Epoch 57/200\n",
            "13/13 [==============================] - 0s 6ms/step - loss: 0.0924 - accuracy: 0.9824 - val_loss: 0.1038 - val_accuracy: 0.9532\n",
            "Epoch 58/200\n",
            "13/13 [==============================] - 0s 6ms/step - loss: 0.0916 - accuracy: 0.9824 - val_loss: 0.1032 - val_accuracy: 0.9532\n",
            "Epoch 59/200\n",
            "13/13 [==============================] - 0s 7ms/step - loss: 0.0909 - accuracy: 0.9824 - val_loss: 0.1028 - val_accuracy: 0.9532\n",
            "Epoch 60/200\n",
            "13/13 [==============================] - 0s 7ms/step - loss: 0.0903 - accuracy: 0.9824 - val_loss: 0.1022 - val_accuracy: 0.9532\n",
            "Epoch 61/200\n",
            "13/13 [==============================] - 0s 6ms/step - loss: 0.0896 - accuracy: 0.9824 - val_loss: 0.1018 - val_accuracy: 0.9532\n",
            "Epoch 62/200\n",
            "13/13 [==============================] - 0s 6ms/step - loss: 0.0890 - accuracy: 0.9824 - val_loss: 0.1013 - val_accuracy: 0.9532\n",
            "Epoch 63/200\n",
            "13/13 [==============================] - 0s 7ms/step - loss: 0.0883 - accuracy: 0.9824 - val_loss: 0.1009 - val_accuracy: 0.9532\n",
            "Epoch 64/200\n",
            "13/13 [==============================] - 0s 6ms/step - loss: 0.0877 - accuracy: 0.9824 - val_loss: 0.1003 - val_accuracy: 0.9532\n",
            "Epoch 65/200\n",
            "13/13 [==============================] - 0s 6ms/step - loss: 0.0871 - accuracy: 0.9824 - val_loss: 0.1000 - val_accuracy: 0.9532\n",
            "Epoch 66/200\n",
            "13/13 [==============================] - 0s 5ms/step - loss: 0.0866 - accuracy: 0.9824 - val_loss: 0.0995 - val_accuracy: 0.9532\n",
            "Epoch 67/200\n",
            "13/13 [==============================] - 0s 6ms/step - loss: 0.0860 - accuracy: 0.9824 - val_loss: 0.0992 - val_accuracy: 0.9532\n",
            "Epoch 68/200\n",
            "13/13 [==============================] - 0s 6ms/step - loss: 0.0854 - accuracy: 0.9824 - val_loss: 0.0989 - val_accuracy: 0.9532\n",
            "Epoch 69/200\n",
            "13/13 [==============================] - 0s 6ms/step - loss: 0.0849 - accuracy: 0.9824 - val_loss: 0.0986 - val_accuracy: 0.9532\n",
            "Epoch 70/200\n",
            "13/13 [==============================] - 0s 6ms/step - loss: 0.0843 - accuracy: 0.9824 - val_loss: 0.0983 - val_accuracy: 0.9591\n",
            "Epoch 71/200\n",
            "13/13 [==============================] - 0s 7ms/step - loss: 0.0839 - accuracy: 0.9824 - val_loss: 0.0978 - val_accuracy: 0.9591\n",
            "Epoch 72/200\n",
            "13/13 [==============================] - 0s 7ms/step - loss: 0.0834 - accuracy: 0.9824 - val_loss: 0.0975 - val_accuracy: 0.9591\n",
            "Epoch 73/200\n",
            "13/13 [==============================] - 0s 6ms/step - loss: 0.0828 - accuracy: 0.9824 - val_loss: 0.0972 - val_accuracy: 0.9591\n",
            "Epoch 74/200\n",
            "13/13 [==============================] - 0s 6ms/step - loss: 0.0824 - accuracy: 0.9824 - val_loss: 0.0968 - val_accuracy: 0.9591\n",
            "Epoch 75/200\n",
            "13/13 [==============================] - 0s 5ms/step - loss: 0.0819 - accuracy: 0.9824 - val_loss: 0.0966 - val_accuracy: 0.9649\n",
            "Epoch 76/200\n",
            "13/13 [==============================] - 0s 7ms/step - loss: 0.0815 - accuracy: 0.9824 - val_loss: 0.0963 - val_accuracy: 0.9591\n",
            "Epoch 77/200\n",
            "13/13 [==============================] - 0s 6ms/step - loss: 0.0810 - accuracy: 0.9824 - val_loss: 0.0960 - val_accuracy: 0.9649\n",
            "Epoch 78/200\n",
            "13/13 [==============================] - 0s 6ms/step - loss: 0.0805 - accuracy: 0.9824 - val_loss: 0.0956 - val_accuracy: 0.9649\n",
            "Epoch 79/200\n",
            "13/13 [==============================] - 0s 5ms/step - loss: 0.0801 - accuracy: 0.9849 - val_loss: 0.0952 - val_accuracy: 0.9649\n",
            "Epoch 80/200\n",
            "13/13 [==============================] - 0s 6ms/step - loss: 0.0796 - accuracy: 0.9849 - val_loss: 0.0949 - val_accuracy: 0.9649\n",
            "Epoch 81/200\n",
            "13/13 [==============================] - 0s 6ms/step - loss: 0.0793 - accuracy: 0.9849 - val_loss: 0.0947 - val_accuracy: 0.9649\n",
            "Epoch 82/200\n",
            "13/13 [==============================] - 0s 6ms/step - loss: 0.0788 - accuracy: 0.9849 - val_loss: 0.0944 - val_accuracy: 0.9649\n",
            "Epoch 83/200\n",
            "13/13 [==============================] - 0s 7ms/step - loss: 0.0784 - accuracy: 0.9849 - val_loss: 0.0941 - val_accuracy: 0.9649\n",
            "Epoch 84/200\n",
            "13/13 [==============================] - 0s 7ms/step - loss: 0.0781 - accuracy: 0.9849 - val_loss: 0.0939 - val_accuracy: 0.9649\n",
            "Epoch 85/200\n",
            "13/13 [==============================] - 0s 6ms/step - loss: 0.0777 - accuracy: 0.9849 - val_loss: 0.0935 - val_accuracy: 0.9649\n",
            "Epoch 86/200\n",
            "13/13 [==============================] - 0s 7ms/step - loss: 0.0773 - accuracy: 0.9849 - val_loss: 0.0933 - val_accuracy: 0.9649\n",
            "Epoch 87/200\n",
            "13/13 [==============================] - 0s 5ms/step - loss: 0.0769 - accuracy: 0.9849 - val_loss: 0.0931 - val_accuracy: 0.9649\n",
            "Epoch 88/200\n",
            "13/13 [==============================] - 0s 5ms/step - loss: 0.0765 - accuracy: 0.9849 - val_loss: 0.0928 - val_accuracy: 0.9649\n",
            "Epoch 89/200\n",
            "13/13 [==============================] - 0s 6ms/step - loss: 0.0762 - accuracy: 0.9849 - val_loss: 0.0926 - val_accuracy: 0.9649\n",
            "Epoch 90/200\n",
            "13/13 [==============================] - 0s 6ms/step - loss: 0.0759 - accuracy: 0.9849 - val_loss: 0.0926 - val_accuracy: 0.9649\n",
            "Epoch 91/200\n",
            "13/13 [==============================] - 0s 5ms/step - loss: 0.0755 - accuracy: 0.9849 - val_loss: 0.0922 - val_accuracy: 0.9708\n",
            "Epoch 92/200\n",
            "13/13 [==============================] - 0s 5ms/step - loss: 0.0751 - accuracy: 0.9849 - val_loss: 0.0921 - val_accuracy: 0.9708\n",
            "Epoch 93/200\n",
            "13/13 [==============================] - 0s 5ms/step - loss: 0.0748 - accuracy: 0.9849 - val_loss: 0.0920 - val_accuracy: 0.9708\n",
            "Epoch 94/200\n",
            "13/13 [==============================] - 0s 6ms/step - loss: 0.0745 - accuracy: 0.9849 - val_loss: 0.0918 - val_accuracy: 0.9708\n",
            "Epoch 95/200\n",
            "13/13 [==============================] - 0s 7ms/step - loss: 0.0742 - accuracy: 0.9849 - val_loss: 0.0916 - val_accuracy: 0.9708\n",
            "Epoch 96/200\n",
            "13/13 [==============================] - 0s 7ms/step - loss: 0.0739 - accuracy: 0.9849 - val_loss: 0.0915 - val_accuracy: 0.9708\n",
            "Epoch 97/200\n",
            "13/13 [==============================] - 0s 5ms/step - loss: 0.0736 - accuracy: 0.9849 - val_loss: 0.0914 - val_accuracy: 0.9708\n",
            "Epoch 98/200\n",
            "13/13 [==============================] - 0s 7ms/step - loss: 0.0733 - accuracy: 0.9849 - val_loss: 0.0912 - val_accuracy: 0.9708\n",
            "Epoch 99/200\n",
            "13/13 [==============================] - 0s 7ms/step - loss: 0.0730 - accuracy: 0.9849 - val_loss: 0.0909 - val_accuracy: 0.9708\n",
            "Epoch 100/200\n",
            "13/13 [==============================] - 0s 6ms/step - loss: 0.0727 - accuracy: 0.9849 - val_loss: 0.0907 - val_accuracy: 0.9708\n",
            "Epoch 101/200\n",
            "13/13 [==============================] - 0s 6ms/step - loss: 0.0724 - accuracy: 0.9849 - val_loss: 0.0905 - val_accuracy: 0.9708\n",
            "Epoch 102/200\n",
            "13/13 [==============================] - 0s 6ms/step - loss: 0.0722 - accuracy: 0.9849 - val_loss: 0.0907 - val_accuracy: 0.9708\n",
            "Epoch 103/200\n",
            "13/13 [==============================] - 0s 6ms/step - loss: 0.0718 - accuracy: 0.9849 - val_loss: 0.0905 - val_accuracy: 0.9708\n",
            "Epoch 104/200\n",
            "13/13 [==============================] - 0s 7ms/step - loss: 0.0716 - accuracy: 0.9849 - val_loss: 0.0903 - val_accuracy: 0.9708\n",
            "Epoch 105/200\n",
            "13/13 [==============================] - 0s 6ms/step - loss: 0.0713 - accuracy: 0.9849 - val_loss: 0.0899 - val_accuracy: 0.9708\n",
            "Epoch 106/200\n",
            "13/13 [==============================] - 0s 7ms/step - loss: 0.0710 - accuracy: 0.9849 - val_loss: 0.0898 - val_accuracy: 0.9708\n",
            "Epoch 107/200\n",
            "13/13 [==============================] - 0s 6ms/step - loss: 0.0708 - accuracy: 0.9849 - val_loss: 0.0897 - val_accuracy: 0.9708\n",
            "Epoch 108/200\n",
            "13/13 [==============================] - 0s 7ms/step - loss: 0.0705 - accuracy: 0.9849 - val_loss: 0.0895 - val_accuracy: 0.9708\n",
            "Epoch 109/200\n",
            "13/13 [==============================] - 0s 8ms/step - loss: 0.0703 - accuracy: 0.9849 - val_loss: 0.0893 - val_accuracy: 0.9708\n",
            "Epoch 110/200\n",
            "13/13 [==============================] - 0s 9ms/step - loss: 0.0701 - accuracy: 0.9849 - val_loss: 0.0893 - val_accuracy: 0.9708\n",
            "Epoch 111/200\n",
            "13/13 [==============================] - 0s 8ms/step - loss: 0.0698 - accuracy: 0.9874 - val_loss: 0.0889 - val_accuracy: 0.9708\n",
            "Epoch 112/200\n",
            "13/13 [==============================] - 0s 7ms/step - loss: 0.0695 - accuracy: 0.9874 - val_loss: 0.0888 - val_accuracy: 0.9708\n",
            "Epoch 113/200\n",
            "13/13 [==============================] - 0s 8ms/step - loss: 0.0692 - accuracy: 0.9849 - val_loss: 0.0888 - val_accuracy: 0.9708\n",
            "Epoch 114/200\n",
            "13/13 [==============================] - 0s 7ms/step - loss: 0.0690 - accuracy: 0.9849 - val_loss: 0.0886 - val_accuracy: 0.9708\n",
            "Epoch 115/200\n",
            "13/13 [==============================] - 0s 9ms/step - loss: 0.0688 - accuracy: 0.9849 - val_loss: 0.0887 - val_accuracy: 0.9708\n",
            "Epoch 116/200\n",
            "13/13 [==============================] - 0s 8ms/step - loss: 0.0686 - accuracy: 0.9874 - val_loss: 0.0884 - val_accuracy: 0.9708\n",
            "Epoch 117/200\n",
            "13/13 [==============================] - 0s 12ms/step - loss: 0.0683 - accuracy: 0.9874 - val_loss: 0.0883 - val_accuracy: 0.9708\n",
            "Epoch 118/200\n",
            "13/13 [==============================] - 0s 37ms/step - loss: 0.0681 - accuracy: 0.9874 - val_loss: 0.0883 - val_accuracy: 0.9708\n",
            "Epoch 119/200\n",
            "13/13 [==============================] - 0s 37ms/step - loss: 0.0679 - accuracy: 0.9874 - val_loss: 0.0881 - val_accuracy: 0.9708\n",
            "Epoch 120/200\n",
            "13/13 [==============================] - 1s 44ms/step - loss: 0.0677 - accuracy: 0.9874 - val_loss: 0.0879 - val_accuracy: 0.9708\n",
            "Epoch 121/200\n",
            "13/13 [==============================] - 1s 43ms/step - loss: 0.0675 - accuracy: 0.9874 - val_loss: 0.0878 - val_accuracy: 0.9708\n",
            "Epoch 122/200\n",
            "13/13 [==============================] - 0s 31ms/step - loss: 0.0672 - accuracy: 0.9874 - val_loss: 0.0878 - val_accuracy: 0.9708\n",
            "Epoch 123/200\n",
            "13/13 [==============================] - 0s 21ms/step - loss: 0.0670 - accuracy: 0.9874 - val_loss: 0.0877 - val_accuracy: 0.9708\n",
            "Epoch 124/200\n",
            "13/13 [==============================] - 0s 8ms/step - loss: 0.0668 - accuracy: 0.9874 - val_loss: 0.0878 - val_accuracy: 0.9708\n",
            "Epoch 125/200\n",
            "13/13 [==============================] - 0s 8ms/step - loss: 0.0666 - accuracy: 0.9874 - val_loss: 0.0877 - val_accuracy: 0.9708\n",
            "Epoch 126/200\n",
            "13/13 [==============================] - 0s 10ms/step - loss: 0.0664 - accuracy: 0.9874 - val_loss: 0.0876 - val_accuracy: 0.9708\n",
            "Epoch 127/200\n",
            "13/13 [==============================] - 0s 8ms/step - loss: 0.0662 - accuracy: 0.9874 - val_loss: 0.0875 - val_accuracy: 0.9708\n",
            "Epoch 128/200\n",
            "13/13 [==============================] - 0s 6ms/step - loss: 0.0660 - accuracy: 0.9874 - val_loss: 0.0873 - val_accuracy: 0.9708\n",
            "Epoch 129/200\n",
            "13/13 [==============================] - 0s 6ms/step - loss: 0.0658 - accuracy: 0.9874 - val_loss: 0.0873 - val_accuracy: 0.9708\n",
            "Epoch 130/200\n",
            "13/13 [==============================] - 0s 6ms/step - loss: 0.0656 - accuracy: 0.9874 - val_loss: 0.0871 - val_accuracy: 0.9708\n",
            "Epoch 131/200\n",
            "13/13 [==============================] - 0s 6ms/step - loss: 0.0655 - accuracy: 0.9874 - val_loss: 0.0872 - val_accuracy: 0.9708\n",
            "Epoch 132/200\n",
            "13/13 [==============================] - 0s 5ms/step - loss: 0.0653 - accuracy: 0.9874 - val_loss: 0.0870 - val_accuracy: 0.9708\n",
            "Epoch 133/200\n",
            "13/13 [==============================] - 0s 8ms/step - loss: 0.0651 - accuracy: 0.9874 - val_loss: 0.0869 - val_accuracy: 0.9708\n",
            "Epoch 134/200\n",
            "13/13 [==============================] - 0s 7ms/step - loss: 0.0649 - accuracy: 0.9874 - val_loss: 0.0868 - val_accuracy: 0.9708\n",
            "Epoch 135/200\n",
            "13/13 [==============================] - 0s 6ms/step - loss: 0.0647 - accuracy: 0.9874 - val_loss: 0.0868 - val_accuracy: 0.9708\n",
            "Epoch 136/200\n",
            "13/13 [==============================] - 0s 6ms/step - loss: 0.0645 - accuracy: 0.9874 - val_loss: 0.0868 - val_accuracy: 0.9708\n",
            "Epoch 137/200\n",
            "13/13 [==============================] - 0s 7ms/step - loss: 0.0643 - accuracy: 0.9874 - val_loss: 0.0867 - val_accuracy: 0.9708\n",
            "Epoch 138/200\n",
            "13/13 [==============================] - 0s 6ms/step - loss: 0.0642 - accuracy: 0.9899 - val_loss: 0.0868 - val_accuracy: 0.9708\n",
            "Epoch 139/200\n",
            "13/13 [==============================] - 0s 7ms/step - loss: 0.0640 - accuracy: 0.9899 - val_loss: 0.0867 - val_accuracy: 0.9708\n",
            "Epoch 140/200\n",
            "13/13 [==============================] - 0s 6ms/step - loss: 0.0638 - accuracy: 0.9899 - val_loss: 0.0866 - val_accuracy: 0.9708\n",
            "Epoch 141/200\n",
            "13/13 [==============================] - 0s 7ms/step - loss: 0.0636 - accuracy: 0.9899 - val_loss: 0.0865 - val_accuracy: 0.9708\n",
            "Epoch 142/200\n",
            "13/13 [==============================] - 0s 6ms/step - loss: 0.0635 - accuracy: 0.9899 - val_loss: 0.0865 - val_accuracy: 0.9708\n",
            "Epoch 143/200\n",
            "13/13 [==============================] - 0s 7ms/step - loss: 0.0633 - accuracy: 0.9899 - val_loss: 0.0866 - val_accuracy: 0.9708\n",
            "Epoch 144/200\n",
            "13/13 [==============================] - 0s 8ms/step - loss: 0.0632 - accuracy: 0.9899 - val_loss: 0.0865 - val_accuracy: 0.9708\n",
            "Epoch 145/200\n",
            "13/13 [==============================] - 0s 6ms/step - loss: 0.0630 - accuracy: 0.9899 - val_loss: 0.0862 - val_accuracy: 0.9708\n",
            "Epoch 146/200\n",
            "13/13 [==============================] - 0s 6ms/step - loss: 0.0628 - accuracy: 0.9899 - val_loss: 0.0860 - val_accuracy: 0.9708\n",
            "Epoch 147/200\n",
            "13/13 [==============================] - 0s 6ms/step - loss: 0.0627 - accuracy: 0.9899 - val_loss: 0.0859 - val_accuracy: 0.9708\n",
            "Epoch 148/200\n",
            "13/13 [==============================] - 0s 6ms/step - loss: 0.0625 - accuracy: 0.9899 - val_loss: 0.0857 - val_accuracy: 0.9708\n",
            "Epoch 149/200\n",
            "13/13 [==============================] - 0s 5ms/step - loss: 0.0624 - accuracy: 0.9899 - val_loss: 0.0855 - val_accuracy: 0.9708\n",
            "Epoch 150/200\n",
            "13/13 [==============================] - 0s 6ms/step - loss: 0.0622 - accuracy: 0.9899 - val_loss: 0.0855 - val_accuracy: 0.9708\n",
            "Epoch 151/200\n",
            "13/13 [==============================] - 0s 5ms/step - loss: 0.0621 - accuracy: 0.9899 - val_loss: 0.0854 - val_accuracy: 0.9708\n",
            "Epoch 152/200\n",
            "13/13 [==============================] - 0s 6ms/step - loss: 0.0619 - accuracy: 0.9899 - val_loss: 0.0856 - val_accuracy: 0.9708\n",
            "Epoch 153/200\n",
            "13/13 [==============================] - 0s 7ms/step - loss: 0.0618 - accuracy: 0.9899 - val_loss: 0.0852 - val_accuracy: 0.9708\n",
            "Epoch 154/200\n",
            "13/13 [==============================] - 0s 5ms/step - loss: 0.0616 - accuracy: 0.9899 - val_loss: 0.0852 - val_accuracy: 0.9708\n",
            "Epoch 155/200\n",
            "13/13 [==============================] - 0s 6ms/step - loss: 0.0614 - accuracy: 0.9899 - val_loss: 0.0849 - val_accuracy: 0.9708\n",
            "Epoch 156/200\n",
            "13/13 [==============================] - 0s 6ms/step - loss: 0.0613 - accuracy: 0.9899 - val_loss: 0.0849 - val_accuracy: 0.9708\n",
            "Epoch 157/200\n",
            "13/13 [==============================] - 0s 6ms/step - loss: 0.0612 - accuracy: 0.9899 - val_loss: 0.0848 - val_accuracy: 0.9708\n",
            "Epoch 158/200\n",
            "13/13 [==============================] - 0s 6ms/step - loss: 0.0611 - accuracy: 0.9899 - val_loss: 0.0848 - val_accuracy: 0.9708\n",
            "Epoch 159/200\n",
            "13/13 [==============================] - 0s 5ms/step - loss: 0.0609 - accuracy: 0.9899 - val_loss: 0.0847 - val_accuracy: 0.9708\n",
            "Epoch 160/200\n",
            "13/13 [==============================] - 0s 5ms/step - loss: 0.0608 - accuracy: 0.9899 - val_loss: 0.0848 - val_accuracy: 0.9708\n",
            "Epoch 161/200\n",
            "13/13 [==============================] - 0s 6ms/step - loss: 0.0607 - accuracy: 0.9899 - val_loss: 0.0850 - val_accuracy: 0.9708\n",
            "Epoch 162/200\n",
            "13/13 [==============================] - 0s 6ms/step - loss: 0.0605 - accuracy: 0.9899 - val_loss: 0.0848 - val_accuracy: 0.9708\n",
            "Epoch 163/200\n",
            "13/13 [==============================] - 0s 6ms/step - loss: 0.0604 - accuracy: 0.9899 - val_loss: 0.0847 - val_accuracy: 0.9708\n",
            "Epoch 164/200\n",
            "13/13 [==============================] - 0s 5ms/step - loss: 0.0602 - accuracy: 0.9899 - val_loss: 0.0848 - val_accuracy: 0.9708\n",
            "Epoch 165/200\n",
            "13/13 [==============================] - 0s 7ms/step - loss: 0.0601 - accuracy: 0.9899 - val_loss: 0.0847 - val_accuracy: 0.9708\n",
            "Epoch 166/200\n",
            "13/13 [==============================] - 0s 6ms/step - loss: 0.0600 - accuracy: 0.9899 - val_loss: 0.0846 - val_accuracy: 0.9708\n",
            "Epoch 167/200\n",
            "13/13 [==============================] - 0s 7ms/step - loss: 0.0598 - accuracy: 0.9899 - val_loss: 0.0847 - val_accuracy: 0.9708\n",
            "Epoch 168/200\n",
            "13/13 [==============================] - 0s 7ms/step - loss: 0.0597 - accuracy: 0.9899 - val_loss: 0.0847 - val_accuracy: 0.9708\n",
            "Epoch 169/200\n",
            "13/13 [==============================] - 0s 7ms/step - loss: 0.0596 - accuracy: 0.9899 - val_loss: 0.0845 - val_accuracy: 0.9708\n",
            "Epoch 170/200\n",
            "13/13 [==============================] - 0s 6ms/step - loss: 0.0595 - accuracy: 0.9899 - val_loss: 0.0847 - val_accuracy: 0.9708\n",
            "Epoch 171/200\n",
            "13/13 [==============================] - 0s 6ms/step - loss: 0.0593 - accuracy: 0.9899 - val_loss: 0.0846 - val_accuracy: 0.9708\n",
            "Epoch 172/200\n",
            "13/13 [==============================] - 0s 6ms/step - loss: 0.0592 - accuracy: 0.9899 - val_loss: 0.0847 - val_accuracy: 0.9708\n",
            "Epoch 173/200\n",
            "13/13 [==============================] - 0s 6ms/step - loss: 0.0591 - accuracy: 0.9899 - val_loss: 0.0846 - val_accuracy: 0.9708\n",
            "Epoch 174/200\n",
            "13/13 [==============================] - 0s 6ms/step - loss: 0.0590 - accuracy: 0.9925 - val_loss: 0.0847 - val_accuracy: 0.9708\n"
          ]
        }
      ]
    },
    {
      "cell_type": "code",
      "source": [
        "model.evaluate(X_train, y_train), model.evaluate(X_test, y_test)"
      ],
      "metadata": {
        "colab": {
          "base_uri": "https://localhost:8080/"
        },
        "id": "iXqqnulvX8Kj",
        "outputId": "69de5238-dd52-42e5-b528-a3f74f26e4f0"
      },
      "execution_count": 101,
      "outputs": [
        {
          "output_type": "stream",
          "name": "stdout",
          "text": [
            "13/13 [==============================] - 0s 2ms/step - loss: 0.0588 - accuracy: 0.9925\n",
            "6/6 [==============================] - 0s 3ms/step - loss: 0.0847 - accuracy: 0.9708\n"
          ]
        },
        {
          "output_type": "execute_result",
          "data": {
            "text/plain": [
              "([0.0588446706533432, 0.9924623370170593],\n",
              " [0.08469224721193314, 0.9707602262496948])"
            ]
          },
          "metadata": {},
          "execution_count": 101
        }
      ]
    },
    {
      "cell_type": "code",
      "source": [
        "import matplotlib.pyplot as plt\n",
        "plt.style.use(\"seaborn-v0_8\")\n",
        "plt.plot(history.history[\"loss\"], label=\"Train loss\")\n",
        "plt.plot(history.history[\"val_loss\"], label=\"Test loss\");\n",
        "plt.legend();"
      ],
      "metadata": {
        "colab": {
          "base_uri": "https://localhost:8080/",
          "height": 484
        },
        "id": "7u3Bo-tGY7e1",
        "outputId": "89c2342d-1c68-4973-d267-849ec4348d1b"
      },
      "execution_count": 102,
      "outputs": [
        {
          "output_type": "display_data",
          "data": {
            "text/plain": [
              "<Figure size 800x550 with 1 Axes>"
            ],
            "image/png": "[encoded data removed]"
          },
          "metadata": {}
        }
      ]
    },
    {
      "cell_type": "code",
      "source": [],
      "metadata": {
        "id": "mFb_Cf9eZM4y"
      },
      "execution_count": 64,
      "outputs": []
    }
  ]
}