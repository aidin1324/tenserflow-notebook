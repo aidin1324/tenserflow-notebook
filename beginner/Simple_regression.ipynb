{
  "nbformat": 4,
  "nbformat_minor": 0,
  "metadata": {
    "colab": {
      "provenance": []
    },
    "kernelspec": {
      "name": "python3",
      "display_name": "Python 3"
    },
    "language_info": {
      "name": "python"
    }
  },
  "cells": [
    {
      "cell_type": "code",
      "execution_count": null,
      "metadata": {
        "colab": {
          "base_uri": "https://localhost:8080/",
          "height": 35
        },
        "id": "viqYufNltk43",
        "outputId": "3f2d9241-b96f-40b1-e3b9-da52851f70dd"
      },
      "outputs": [
        {
          "output_type": "execute_result",
          "data": {
            "text/plain": [
              "'2.15.0'"
            ],
            "application/vnd.google.colaboratory.intrinsic+json": {
              "type": "string"
            }
          },
          "metadata": {},
          "execution_count": 130
        }
      ],
      "source": [
        "from tensorflow import __version__\n",
        "__version__"
      ]
    },
    {
      "cell_type": "code",
      "source": [
        "import tensorflow as tf\n",
        "from keras.datasets import boston_housing\n",
        "import numpy as np\n",
        "\n",
        "(train_data, train_targets), (test_data, test_targets) = boston_housing.load_data()"
      ],
      "metadata": {
        "id": "nfVRNnSntsV3"
      },
      "execution_count": null,
      "outputs": []
    },
    {
      "cell_type": "code",
      "source": [
        "train_data.shape, test_data.shape"
      ],
      "metadata": {
        "colab": {
          "base_uri": "https://localhost:8080/"
        },
        "id": "H9aEJwj8v-IC",
        "outputId": "814b2e7c-3d03-4dd6-b741-dfec5c2238e3"
      },
      "execution_count": null,
      "outputs": [
        {
          "output_type": "execute_result",
          "data": {
            "text/plain": [
              "((404, 13), (102, 13))"
            ]
          },
          "metadata": {},
          "execution_count": 132
        }
      ]
    },
    {
      "cell_type": "code",
      "source": [
        "from sklearn.preprocessing import StandardScaler, MinMaxScaler\n",
        "\n",
        "scaler = StandardScaler()\n",
        "train_data = scaler.fit_transform(train_data)"
      ],
      "metadata": {
        "id": "0_T5akhi5fHs"
      },
      "execution_count": null,
      "outputs": []
    },
    {
      "cell_type": "code",
      "source": [
        "import pandas as pd\n",
        "df_train_data = pd.DataFrame(train_data)\n",
        "df_train_target = pd.DataFrame(train_targets, columns=[\"target\"])\n",
        "\n",
        "pd.concat([df_train_data, df_train_target], axis=1).corr().style.background_gradient(\"Greens\")"
      ],
      "metadata": {
        "colab": {
          "base_uri": "https://localhost:8080/",
          "height": 488
        },
        "id": "MGl7W8E9vkfk",
        "outputId": "df4d4c60-225a-4e77-bbcf-d54814c342bc"
      },
      "execution_count": null,
      "outputs": [
        {
          "output_type": "execute_result",
          "data": {
            "text/plain": [
              "<pandas.io.formats.style.Styler at 0x7a58508f0670>"
            ],
            "text/html": [
              "<style type=\"text/css\">\n",
              "#T_f340f_row0_col0, #T_f340f_row1_col1, #T_f340f_row2_col2, #T_f340f_row3_col3, #T_f340f_row4_col4, #T_f340f_row5_col5, #T_f340f_row6_col6, #T_f340f_row7_col7, #T_f340f_row8_col8, #T_f340f_row9_col9, #T_f340f_row10_col10, #T_f340f_row11_col11, #T_f340f_row12_col12, #T_f340f_row13_col13 {\n",
              "  background-color: #00441b;\n",
              "  color: #f1f1f1;\n",
              "}\n",
              "#T_f340f_row0_col1, #T_f340f_row0_col5, #T_f340f_row3_col0 {\n",
              "  background-color: #c9eac2;\n",
              "  color: #000000;\n",
              "}\n",
              "#T_f340f_row0_col2 {\n",
              "  background-color: #3ba458;\n",
              "  color: #f1f1f1;\n",
              "}\n",
              "#T_f340f_row0_col3, #T_f340f_row9_col3 {\n",
              "  background-color: #eef8ea;\n",
              "  color: #000000;\n",
              "}\n",
              "#T_f340f_row0_col4 {\n",
              "  background-color: #37a055;\n",
              "  color: #f1f1f1;\n",
              "}\n",
              "#T_f340f_row0_col6, #T_f340f_row8_col10 {\n",
              "  background-color: #3fa95c;\n",
              "  color: #f1f1f1;\n",
              "}\n",
              "#T_f340f_row0_col7 {\n",
              "  background-color: #cdecc7;\n",
              "  color: #000000;\n",
              "}\n",
              "#T_f340f_row0_col8 {\n",
              "  background-color: #258d47;\n",
              "  color: #f1f1f1;\n",
              "}\n",
              "#T_f340f_row0_col9, #T_f340f_row9_col6 {\n",
              "  background-color: #29914a;\n",
              "  color: #f1f1f1;\n",
              "}\n",
              "#T_f340f_row0_col10 {\n",
              "  background-color: #6ec173;\n",
              "  color: #000000;\n",
              "}\n",
              "#T_f340f_row0_col11, #T_f340f_row1_col10, #T_f340f_row13_col9 {\n",
              "  background-color: #eff9eb;\n",
              "  color: #000000;\n",
              "}\n",
              "#T_f340f_row0_col12 {\n",
              "  background-color: #359e53;\n",
              "  color: #f1f1f1;\n",
              "}\n",
              "#T_f340f_row0_col13, #T_f340f_row8_col13, #T_f340f_row11_col2, #T_f340f_row11_col4, #T_f340f_row11_col12 {\n",
              "  background-color: #d2edcc;\n",
              "  color: #000000;\n",
              "}\n",
              "#T_f340f_row1_col0, #T_f340f_row1_col4, #T_f340f_row11_col3, #T_f340f_row13_col2 {\n",
              "  background-color: #e1f3dc;\n",
              "  color: #000000;\n",
              "}\n",
              "#T_f340f_row1_col2, #T_f340f_row10_col1 {\n",
              "  background-color: #e7f6e3;\n",
              "  color: #000000;\n",
              "}\n",
              "#T_f340f_row1_col3, #T_f340f_row2_col11 {\n",
              "  background-color: #edf8e9;\n",
              "  color: #000000;\n",
              "}\n",
              "#T_f340f_row1_col5 {\n",
              "  background-color: #50b264;\n",
              "  color: #f1f1f1;\n",
              "}\n",
              "#T_f340f_row1_col6 {\n",
              "  background-color: #e8f6e3;\n",
              "  color: #000000;\n",
              "}\n",
              "#T_f340f_row1_col7, #T_f340f_row6_col2, #T_f340f_row13_col5 {\n",
              "  background-color: #147e3a;\n",
              "  color: #f1f1f1;\n",
              "}\n",
              "#T_f340f_row1_col8, #T_f340f_row7_col12, #T_f340f_row9_col7 {\n",
              "  background-color: #e4f5df;\n",
              "  color: #000000;\n",
              "}\n",
              "#T_f340f_row1_col9, #T_f340f_row2_col3, #T_f340f_row5_col9 {\n",
              "  background-color: #def2d9;\n",
              "  color: #000000;\n",
              "}\n",
              "#T_f340f_row1_col11 {\n",
              "  background-color: #88ce87;\n",
              "  color: #000000;\n",
              "}\n",
              "#T_f340f_row1_col12, #T_f340f_row4_col3, #T_f340f_row5_col2, #T_f340f_row6_col3 {\n",
              "  background-color: #d8f0d2;\n",
              "  color: #000000;\n",
              "}\n",
              "#T_f340f_row1_col13, #T_f340f_row6_col8 {\n",
              "  background-color: #3da65a;\n",
              "  color: #f1f1f1;\n",
              "}\n",
              "#T_f340f_row2_col0, #T_f340f_row5_col7, #T_f340f_row7_col13 {\n",
              "  background-color: #58b668;\n",
              "  color: #f1f1f1;\n",
              "}\n",
              "#T_f340f_row2_col1, #T_f340f_row2_col7 {\n",
              "  background-color: #f3faf0;\n",
              "  color: #000000;\n",
              "}\n",
              "#T_f340f_row2_col4 {\n",
              "  background-color: #006d2c;\n",
              "  color: #f1f1f1;\n",
              "}\n",
              "#T_f340f_row2_col5, #T_f340f_row5_col0 {\n",
              "  background-color: #e5f5e1;\n",
              "  color: #000000;\n",
              "}\n",
              "#T_f340f_row2_col6, #T_f340f_row2_col9 {\n",
              "  background-color: #137d39;\n",
              "  color: #f1f1f1;\n",
              "}\n",
              "#T_f340f_row2_col8 {\n",
              "  background-color: #268e47;\n",
              "  color: #f1f1f1;\n",
              "}\n",
              "#T_f340f_row2_col10 {\n",
              "  background-color: #52b365;\n",
              "  color: #f1f1f1;\n",
              "}\n",
              "#T_f340f_row2_col12, #T_f340f_row12_col2, #T_f340f_row12_col4 {\n",
              "  background-color: #1d8640;\n",
              "  color: #f1f1f1;\n",
              "}\n",
              "#T_f340f_row2_col13, #T_f340f_row5_col3 {\n",
              "  background-color: #e0f3db;\n",
              "  color: #000000;\n",
              "}\n",
              "#T_f340f_row3_col1 {\n",
              "  background-color: #abdda5;\n",
              "  color: #000000;\n",
              "}\n",
              "#T_f340f_row3_col2 {\n",
              "  background-color: #86cc85;\n",
              "  color: #000000;\n",
              "}\n",
              "#T_f340f_row3_col4 {\n",
              "  background-color: #7ac77b;\n",
              "  color: #000000;\n",
              "}\n",
              "#T_f340f_row3_col5 {\n",
              "  background-color: #97d492;\n",
              "  color: #000000;\n",
              "}\n",
              "#T_f340f_row3_col6, #T_f340f_row10_col0, #T_f340f_row11_col1 {\n",
              "  background-color: #7cc87c;\n",
              "  color: #000000;\n",
              "}\n",
              "#T_f340f_row3_col7 {\n",
              "  background-color: #9cd797;\n",
              "  color: #000000;\n",
              "}\n",
              "#T_f340f_row3_col8 {\n",
              "  background-color: #b1e0ab;\n",
              "  color: #000000;\n",
              "}\n",
              "#T_f340f_row3_col9 {\n",
              "  background-color: #b2e0ac;\n",
              "  color: #000000;\n",
              "}\n",
              "#T_f340f_row3_col10, #T_f340f_row5_col4 {\n",
              "  background-color: #c8e9c1;\n",
              "  color: #000000;\n",
              "}\n",
              "#T_f340f_row3_col11 {\n",
              "  background-color: #a9dca3;\n",
              "  color: #000000;\n",
              "}\n",
              "#T_f340f_row3_col12 {\n",
              "  background-color: #92d28f;\n",
              "  color: #000000;\n",
              "}\n",
              "#T_f340f_row3_col13, #T_f340f_row6_col10 {\n",
              "  background-color: #6bc072;\n",
              "  color: #000000;\n",
              "}\n",
              "#T_f340f_row4_col0 {\n",
              "  background-color: #56b567;\n",
              "  color: #f1f1f1;\n",
              "}\n",
              "#T_f340f_row4_col1 {\n",
              "  background-color: #f2faef;\n",
              "  color: #000000;\n",
              "}\n",
              "#T_f340f_row4_col2 {\n",
              "  background-color: #016e2d;\n",
              "  color: #f1f1f1;\n",
              "}\n",
              "#T_f340f_row4_col5, #T_f340f_row4_col13, #T_f340f_row8_col1 {\n",
              "  background-color: #dbf1d5;\n",
              "  color: #000000;\n",
              "}\n",
              "#T_f340f_row4_col6 {\n",
              "  background-color: #087432;\n",
              "  color: #f1f1f1;\n",
              "}\n",
              "#T_f340f_row4_col7, #T_f340f_row6_col1, #T_f340f_row7_col2, #T_f340f_row7_col4, #T_f340f_row7_col6, #T_f340f_row7_col8, #T_f340f_row7_col9, #T_f340f_row8_col11, #T_f340f_row10_col3, #T_f340f_row11_col0, #T_f340f_row12_col5, #T_f340f_row12_col13, #T_f340f_row13_col10, #T_f340f_row13_col12 {\n",
              "  background-color: #f7fcf5;\n",
              "  color: #000000;\n",
              "}\n",
              "#T_f340f_row4_col8 {\n",
              "  background-color: #238b45;\n",
              "  color: #f1f1f1;\n",
              "}\n",
              "#T_f340f_row4_col9 {\n",
              "  background-color: #18823d;\n",
              "  color: #f1f1f1;\n",
              "}\n",
              "#T_f340f_row4_col10 {\n",
              "  background-color: #84cc83;\n",
              "  color: #000000;\n",
              "}\n",
              "#T_f340f_row4_col11, #T_f340f_row11_col9 {\n",
              "  background-color: #f1faee;\n",
              "  color: #000000;\n",
              "}\n",
              "#T_f340f_row4_col12, #T_f340f_row6_col12 {\n",
              "  background-color: #1f8742;\n",
              "  color: #f1f1f1;\n",
              "}\n",
              "#T_f340f_row5_col1, #T_f340f_row13_col7 {\n",
              "  background-color: #53b466;\n",
              "  color: #f1f1f1;\n",
              "}\n",
              "#T_f340f_row5_col6, #T_f340f_row10_col7 {\n",
              "  background-color: #b8e3b2;\n",
              "  color: #000000;\n",
              "}\n",
              "#T_f340f_row5_col8 {\n",
              "  background-color: #d9f0d3;\n",
              "  color: #000000;\n",
              "}\n",
              "#T_f340f_row5_col10, #T_f340f_row8_col3, #T_f340f_row13_col8 {\n",
              "  background-color: #ebf7e7;\n",
              "  color: #000000;\n",
              "}\n",
              "#T_f340f_row5_col11 {\n",
              "  background-color: #90d18d;\n",
              "  color: #000000;\n",
              "}\n",
              "#T_f340f_row5_col12, #T_f340f_row12_col11 {\n",
              "  background-color: #edf8ea;\n",
              "  color: #000000;\n",
              "}\n",
              "#T_f340f_row5_col13, #T_f340f_row9_col4 {\n",
              "  background-color: #117b38;\n",
              "  color: #f1f1f1;\n",
              "}\n",
              "#T_f340f_row6_col0 {\n",
              "  background-color: #68be70;\n",
              "  color: #000000;\n",
              "}\n",
              "#T_f340f_row6_col4 {\n",
              "  background-color: #077331;\n",
              "  color: #f1f1f1;\n",
              "}\n",
              "#T_f340f_row6_col5, #T_f340f_row8_col5, #T_f340f_row13_col6 {\n",
              "  background-color: #ccebc6;\n",
              "  color: #000000;\n",
              "}\n",
              "#T_f340f_row6_col7, #T_f340f_row7_col0, #T_f340f_row9_col11, #T_f340f_row13_col0 {\n",
              "  background-color: #f6fcf4;\n",
              "  color: #000000;\n",
              "}\n",
              "#T_f340f_row6_col9 {\n",
              "  background-color: #329b51;\n",
              "  color: #f1f1f1;\n",
              "}\n",
              "#T_f340f_row6_col11 {\n",
              "  background-color: #e3f4de;\n",
              "  color: #000000;\n",
              "}\n",
              "#T_f340f_row6_col13, #T_f340f_row11_col10 {\n",
              "  background-color: #d0edca;\n",
              "  color: #000000;\n",
              "}\n",
              "#T_f340f_row7_col1 {\n",
              "  background-color: #1a843f;\n",
              "  color: #f1f1f1;\n",
              "}\n",
              "#T_f340f_row7_col3 {\n",
              "  background-color: #f2faf0;\n",
              "  color: #000000;\n",
              "}\n",
              "#T_f340f_row7_col5, #T_f340f_row7_col11 {\n",
              "  background-color: #6abf71;\n",
              "  color: #000000;\n",
              "}\n",
              "#T_f340f_row7_col10 {\n",
              "  background-color: #dbf1d6;\n",
              "  color: #000000;\n",
              "}\n",
              "#T_f340f_row8_col0 {\n",
              "  background-color: #2a924a;\n",
              "  color: #f1f1f1;\n",
              "}\n",
              "#T_f340f_row8_col2, #T_f340f_row12_col6 {\n",
              "  background-color: #1e8741;\n",
              "  color: #f1f1f1;\n",
              "}\n",
              "#T_f340f_row8_col4 {\n",
              "  background-color: #19833e;\n",
              "  color: #f1f1f1;\n",
              "}\n",
              "#T_f340f_row8_col6, #T_f340f_row12_col9 {\n",
              "  background-color: #2f984f;\n",
              "  color: #f1f1f1;\n",
              "}\n",
              "#T_f340f_row8_col7, #T_f340f_row10_col5, #T_f340f_row12_col7 {\n",
              "  background-color: #dff3da;\n",
              "  color: #000000;\n",
              "}\n",
              "#T_f340f_row8_col9 {\n",
              "  background-color: #005321;\n",
              "  color: #f1f1f1;\n",
              "}\n",
              "#T_f340f_row8_col12 {\n",
              "  background-color: #2e964d;\n",
              "  color: #f1f1f1;\n",
              "}\n",
              "#T_f340f_row9_col0 {\n",
              "  background-color: #309950;\n",
              "  color: #f1f1f1;\n",
              "}\n",
              "#T_f340f_row9_col1 {\n",
              "  background-color: #daf0d4;\n",
              "  color: #000000;\n",
              "}\n",
              "#T_f340f_row9_col2 {\n",
              "  background-color: #0d7836;\n",
              "  color: #f1f1f1;\n",
              "}\n",
              "#T_f340f_row9_col5, #T_f340f_row13_col4 {\n",
              "  background-color: #d6efd0;\n",
              "  color: #000000;\n",
              "}\n",
              "#T_f340f_row9_col8 {\n",
              "  background-color: #005522;\n",
              "  color: #f1f1f1;\n",
              "}\n",
              "#T_f340f_row9_col10 {\n",
              "  background-color: #40aa5d;\n",
              "  color: #f1f1f1;\n",
              "}\n",
              "#T_f340f_row9_col12 {\n",
              "  background-color: #278f48;\n",
              "  color: #f1f1f1;\n",
              "}\n",
              "#T_f340f_row9_col13 {\n",
              "  background-color: #dcf2d7;\n",
              "  color: #000000;\n",
              "}\n",
              "#T_f340f_row10_col2, #T_f340f_row10_col9 {\n",
              "  background-color: #3ea75a;\n",
              "  color: #f1f1f1;\n",
              "}\n",
              "#T_f340f_row10_col4 {\n",
              "  background-color: #62bb6d;\n",
              "  color: #f1f1f1;\n",
              "}\n",
              "#T_f340f_row10_col6, #T_f340f_row12_col0 {\n",
              "  background-color: #4eb264;\n",
              "  color: #f1f1f1;\n",
              "}\n",
              "#T_f340f_row10_col8, #T_f340f_row10_col12 {\n",
              "  background-color: #3fa85b;\n",
              "  color: #f1f1f1;\n",
              "}\n",
              "#T_f340f_row10_col11 {\n",
              "  background-color: #d3eecd;\n",
              "  color: #000000;\n",
              "}\n",
              "#T_f340f_row10_col13 {\n",
              "  background-color: #e2f4dd;\n",
              "  color: #000000;\n",
              "}\n",
              "#T_f340f_row11_col5 {\n",
              "  background-color: #7fc97f;\n",
              "  color: #000000;\n",
              "}\n",
              "#T_f340f_row11_col6 {\n",
              "  background-color: #c0e6b9;\n",
              "  color: #000000;\n",
              "}\n",
              "#T_f340f_row11_col7 {\n",
              "  background-color: #4aaf61;\n",
              "  color: #f1f1f1;\n",
              "}\n",
              "#T_f340f_row11_col8 {\n",
              "  background-color: #f4fbf2;\n",
              "  color: #000000;\n",
              "}\n",
              "#T_f340f_row11_col13 {\n",
              "  background-color: #43ac5e;\n",
              "  color: #f1f1f1;\n",
              "}\n",
              "#T_f340f_row12_col1 {\n",
              "  background-color: #e8f6e4;\n",
              "  color: #000000;\n",
              "}\n",
              "#T_f340f_row12_col3 {\n",
              "  background-color: #e9f7e5;\n",
              "  color: #000000;\n",
              "}\n",
              "#T_f340f_row12_col8 {\n",
              "  background-color: #38a156;\n",
              "  color: #f1f1f1;\n",
              "}\n",
              "#T_f340f_row12_col10 {\n",
              "  background-color: #55b567;\n",
              "  color: #f1f1f1;\n",
              "}\n",
              "#T_f340f_row13_col1 {\n",
              "  background-color: #48ae60;\n",
              "  color: #f1f1f1;\n",
              "}\n",
              "#T_f340f_row13_col3 {\n",
              "  background-color: #c4e8bd;\n",
              "  color: #000000;\n",
              "}\n",
              "#T_f340f_row13_col11 {\n",
              "  background-color: #5db96b;\n",
              "  color: #f1f1f1;\n",
              "}\n",
              "</style>\n",
              "<table id=\"T_f340f\" class=\"dataframe\">\n",
              "  <thead>\n",
              "    <tr>\n",
              "      <th class=\"blank level0\" >&nbsp;</th>\n",
              "      <th id=\"T_f340f_level0_col0\" class=\"col_heading level0 col0\" >0</th>\n",
              "      <th id=\"T_f340f_level0_col1\" class=\"col_heading level0 col1\" >1</th>\n",
              "      <th id=\"T_f340f_level0_col2\" class=\"col_heading level0 col2\" >2</th>\n",
              "      <th id=\"T_f340f_level0_col3\" class=\"col_heading level0 col3\" >3</th>\n",
              "      <th id=\"T_f340f_level0_col4\" class=\"col_heading level0 col4\" >4</th>\n",
              "      <th id=\"T_f340f_level0_col5\" class=\"col_heading level0 col5\" >5</th>\n",
              "      <th id=\"T_f340f_level0_col6\" class=\"col_heading level0 col6\" >6</th>\n",
              "      <th id=\"T_f340f_level0_col7\" class=\"col_heading level0 col7\" >7</th>\n",
              "      <th id=\"T_f340f_level0_col8\" class=\"col_heading level0 col8\" >8</th>\n",
              "      <th id=\"T_f340f_level0_col9\" class=\"col_heading level0 col9\" >9</th>\n",
              "      <th id=\"T_f340f_level0_col10\" class=\"col_heading level0 col10\" >10</th>\n",
              "      <th id=\"T_f340f_level0_col11\" class=\"col_heading level0 col11\" >11</th>\n",
              "      <th id=\"T_f340f_level0_col12\" class=\"col_heading level0 col12\" >12</th>\n",
              "      <th id=\"T_f340f_level0_col13\" class=\"col_heading level0 col13\" >target</th>\n",
              "    </tr>\n",
              "  </thead>\n",
              "  <tbody>\n",
              "    <tr>\n",
              "      <th id=\"T_f340f_level0_row0\" class=\"row_heading level0 row0\" >0</th>\n",
              "      <td id=\"T_f340f_row0_col0\" class=\"data row0 col0\" >1.000000</td>\n",
              "      <td id=\"T_f340f_row0_col1\" class=\"data row0 col1\" >-0.192179</td>\n",
              "      <td id=\"T_f340f_row0_col2\" class=\"data row0 col2\" >0.397419</td>\n",
              "      <td id=\"T_f340f_row0_col3\" class=\"data row0 col3\" >-0.050828</td>\n",
              "      <td id=\"T_f340f_row0_col4\" class=\"data row0 col4\" >0.405765</td>\n",
              "      <td id=\"T_f340f_row0_col5\" class=\"data row0 col5\" >-0.217597</td>\n",
              "      <td id=\"T_f340f_row0_col6\" class=\"data row0 col6\" >0.344410</td>\n",
              "      <td id=\"T_f340f_row0_col7\" class=\"data row0 col7\" >-0.378590</td>\n",
              "      <td id=\"T_f340f_row0_col8\" class=\"data row0 col8\" >0.609689</td>\n",
              "      <td id=\"T_f340f_row0_col9\" class=\"data row0 col9\" >0.575652</td>\n",
              "      <td id=\"T_f340f_row0_col10\" class=\"data row0 col10\" >0.273447</td>\n",
              "      <td id=\"T_f340f_row0_col11\" class=\"data row0 col11\" >-0.390613</td>\n",
              "      <td id=\"T_f340f_row0_col12\" class=\"data row0 col12\" >0.434384</td>\n",
              "      <td id=\"T_f340f_row0_col13\" class=\"data row0 col13\" >-0.378498</td>\n",
              "    </tr>\n",
              "    <tr>\n",
              "      <th id=\"T_f340f_level0_row1\" class=\"row_heading level0 row1\" >1</th>\n",
              "      <td id=\"T_f340f_row1_col0\" class=\"data row1 col0\" >-0.192179</td>\n",
              "      <td id=\"T_f340f_row1_col1\" class=\"data row1 col1\" >1.000000</td>\n",
              "      <td id=\"T_f340f_row1_col2\" class=\"data row1 col2\" >-0.533823</td>\n",
              "      <td id=\"T_f340f_row1_col3\" class=\"data row1 col3\" >-0.041981</td>\n",
              "      <td id=\"T_f340f_row1_col4\" class=\"data row1 col4\" >-0.521713</td>\n",
              "      <td id=\"T_f340f_row1_col5\" class=\"data row1 col5\" >0.338683</td>\n",
              "      <td id=\"T_f340f_row1_col6\" class=\"data row1 col6\" >-0.578728</td>\n",
              "      <td id=\"T_f340f_row1_col7\" class=\"data row1 col7\" >0.650787</td>\n",
              "      <td id=\"T_f340f_row1_col8\" class=\"data row1 col8\" >-0.311091</td>\n",
              "      <td id=\"T_f340f_row1_col9\" class=\"data row1 col9\" >-0.303522</td>\n",
              "      <td id=\"T_f340f_row1_col10\" class=\"data row1 col10\" >-0.403139</td>\n",
              "      <td id=\"T_f340f_row1_col11\" class=\"data row1 col11\" >0.176006</td>\n",
              "      <td id=\"T_f340f_row1_col12\" class=\"data row1 col12\" >-0.415237</td>\n",
              "      <td id=\"T_f340f_row1_col13\" class=\"data row1 col13\" >0.380299</td>\n",
              "    </tr>\n",
              "    <tr>\n",
              "      <th id=\"T_f340f_level0_row2\" class=\"row_heading level0 row2\" >2</th>\n",
              "      <td id=\"T_f340f_row2_col0\" class=\"data row2 col0\" >0.397419</td>\n",
              "      <td id=\"T_f340f_row2_col1\" class=\"data row2 col1\" >-0.533823</td>\n",
              "      <td id=\"T_f340f_row2_col2\" class=\"data row2 col2\" >1.000000</td>\n",
              "      <td id=\"T_f340f_row2_col3\" class=\"data row2 col3\" >0.052839</td>\n",
              "      <td id=\"T_f340f_row2_col4\" class=\"data row2 col4\" >0.774200</td>\n",
              "      <td id=\"T_f340f_row2_col5\" class=\"data row2 col5\" >-0.409924</td>\n",
              "      <td id=\"T_f340f_row2_col6\" class=\"data row2 col6\" >0.656350</td>\n",
              "      <td id=\"T_f340f_row2_col7\" class=\"data row2 col7\" >-0.725155</td>\n",
              "      <td id=\"T_f340f_row2_col8\" class=\"data row2 col8\" >0.599226</td>\n",
              "      <td id=\"T_f340f_row2_col9\" class=\"data row2 col9\" >0.701362</td>\n",
              "      <td id=\"T_f340f_row2_col10\" class=\"data row2 col10\" >0.379284</td>\n",
              "      <td id=\"T_f340f_row2_col11\" class=\"data row2 col11\" >-0.372885</td>\n",
              "      <td id=\"T_f340f_row2_col12\" class=\"data row2 col12\" >0.603129</td>\n",
              "      <td id=\"T_f340f_row2_col13\" class=\"data row2 col13\" >-0.476743</td>\n",
              "    </tr>\n",
              "    <tr>\n",
              "      <th id=\"T_f340f_level0_row3\" class=\"row_heading level0 row3\" >3</th>\n",
              "      <td id=\"T_f340f_row3_col0\" class=\"data row3 col0\" >-0.050828</td>\n",
              "      <td id=\"T_f340f_row3_col1\" class=\"data row3 col1\" >-0.041981</td>\n",
              "      <td id=\"T_f340f_row3_col2\" class=\"data row3 col2\" >0.052839</td>\n",
              "      <td id=\"T_f340f_row3_col3\" class=\"data row3 col3\" >1.000000</td>\n",
              "      <td id=\"T_f340f_row3_col4\" class=\"data row3 col4\" >0.079803</td>\n",
              "      <td id=\"T_f340f_row3_col5\" class=\"data row3 col5\" >0.040431</td>\n",
              "      <td id=\"T_f340f_row3_col6\" class=\"data row3 col6\" >0.080488</td>\n",
              "      <td id=\"T_f340f_row3_col7\" class=\"data row3 col7\" >-0.083101</td>\n",
              "      <td id=\"T_f340f_row3_col8\" class=\"data row3 col8\" >-0.024851</td>\n",
              "      <td id=\"T_f340f_row3_col9\" class=\"data row3 col9\" >-0.051343</td>\n",
              "      <td id=\"T_f340f_row3_col10\" class=\"data row3 col10\" >-0.122008</td>\n",
              "      <td id=\"T_f340f_row3_col11\" class=\"data row3 col11\" >0.037832</td>\n",
              "      <td id=\"T_f340f_row3_col12\" class=\"data row3 col12\" >-0.011017</td>\n",
              "      <td id=\"T_f340f_row3_col13\" class=\"data row3 col13\" >0.168661</td>\n",
              "    </tr>\n",
              "    <tr>\n",
              "      <th id=\"T_f340f_level0_row4\" class=\"row_heading level0 row4\" >4</th>\n",
              "      <td id=\"T_f340f_row4_col0\" class=\"data row4 col0\" >0.405765</td>\n",
              "      <td id=\"T_f340f_row4_col1\" class=\"data row4 col1\" >-0.521713</td>\n",
              "      <td id=\"T_f340f_row4_col2\" class=\"data row4 col2\" >0.774200</td>\n",
              "      <td id=\"T_f340f_row4_col3\" class=\"data row4 col3\" >0.079803</td>\n",
              "      <td id=\"T_f340f_row4_col4\" class=\"data row4 col4\" >1.000000</td>\n",
              "      <td id=\"T_f340f_row4_col5\" class=\"data row4 col5\" >-0.335866</td>\n",
              "      <td id=\"T_f340f_row4_col6\" class=\"data row4 col6\" >0.729338</td>\n",
              "      <td id=\"T_f340f_row4_col7\" class=\"data row4 col7\" >-0.777062</td>\n",
              "      <td id=\"T_f340f_row4_col8\" class=\"data row4 col8\" >0.616535</td>\n",
              "      <td id=\"T_f340f_row4_col9\" class=\"data row4 col9\" >0.673471</td>\n",
              "      <td id=\"T_f340f_row4_col10\" class=\"data row4 col10\" >0.188160</td>\n",
              "      <td id=\"T_f340f_row4_col11\" class=\"data row4 col11\" >-0.409479</td>\n",
              "      <td id=\"T_f340f_row4_col12\" class=\"data row4 col12\" >0.592994</td>\n",
              "      <td id=\"T_f340f_row4_col13\" class=\"data row4 col13\" >-0.438328</td>\n",
              "    </tr>\n",
              "    <tr>\n",
              "      <th id=\"T_f340f_level0_row5\" class=\"row_heading level0 row5\" >5</th>\n",
              "      <td id=\"T_f340f_row5_col0\" class=\"data row5 col0\" >-0.217597</td>\n",
              "      <td id=\"T_f340f_row5_col1\" class=\"data row5 col1\" >0.338683</td>\n",
              "      <td id=\"T_f340f_row5_col2\" class=\"data row5 col2\" >-0.409924</td>\n",
              "      <td id=\"T_f340f_row5_col3\" class=\"data row5 col3\" >0.040431</td>\n",
              "      <td id=\"T_f340f_row5_col4\" class=\"data row5 col4\" >-0.335866</td>\n",
              "      <td id=\"T_f340f_row5_col5\" class=\"data row5 col5\" >1.000000</td>\n",
              "      <td id=\"T_f340f_row5_col6\" class=\"data row5 col6\" >-0.240875</td>\n",
              "      <td id=\"T_f340f_row5_col7\" class=\"data row5 col7\" >0.233970</td>\n",
              "      <td id=\"T_f340f_row5_col8\" class=\"data row5 col8\" >-0.243990</td>\n",
              "      <td id=\"T_f340f_row5_col9\" class=\"data row5 col9\" >-0.307904</td>\n",
              "      <td id=\"T_f340f_row5_col10\" class=\"data row5 col10\" >-0.367256</td>\n",
              "      <td id=\"T_f340f_row5_col11\" class=\"data row5 col11\" >0.145525</td>\n",
              "      <td id=\"T_f340f_row5_col12\" class=\"data row5 col12\" >-0.610844</td>\n",
              "      <td id=\"T_f340f_row5_col13\" class=\"data row5 col13\" >0.681483</td>\n",
              "    </tr>\n",
              "    <tr>\n",
              "      <th id=\"T_f340f_level0_row6\" class=\"row_heading level0 row6\" >6</th>\n",
              "      <td id=\"T_f340f_row6_col0\" class=\"data row6 col0\" >0.344410</td>\n",
              "      <td id=\"T_f340f_row6_col1\" class=\"data row6 col1\" >-0.578728</td>\n",
              "      <td id=\"T_f340f_row6_col2\" class=\"data row6 col2\" >0.656350</td>\n",
              "      <td id=\"T_f340f_row6_col3\" class=\"data row6 col3\" >0.080488</td>\n",
              "      <td id=\"T_f340f_row6_col4\" class=\"data row6 col4\" >0.729338</td>\n",
              "      <td id=\"T_f340f_row6_col5\" class=\"data row6 col5\" >-0.240875</td>\n",
              "      <td id=\"T_f340f_row6_col6\" class=\"data row6 col6\" >1.000000</td>\n",
              "      <td id=\"T_f340f_row6_col7\" class=\"data row6 col7\" >-0.766670</td>\n",
              "      <td id=\"T_f340f_row6_col8\" class=\"data row6 col8\" >0.462188</td>\n",
              "      <td id=\"T_f340f_row6_col9\" class=\"data row6 col9\" >0.512746</td>\n",
              "      <td id=\"T_f340f_row6_col10\" class=\"data row6 col10\" >0.282193</td>\n",
              "      <td id=\"T_f340f_row6_col11\" class=\"data row6 col11\" >-0.278403</td>\n",
              "      <td id=\"T_f340f_row6_col12\" class=\"data row6 col12\" >0.590898</td>\n",
              "      <td id=\"T_f340f_row6_col13\" class=\"data row6 col13\" >-0.364173</td>\n",
              "    </tr>\n",
              "    <tr>\n",
              "      <th id=\"T_f340f_level0_row7\" class=\"row_heading level0 row7\" >7</th>\n",
              "      <td id=\"T_f340f_row7_col0\" class=\"data row7 col0\" >-0.378590</td>\n",
              "      <td id=\"T_f340f_row7_col1\" class=\"data row7 col1\" >0.650787</td>\n",
              "      <td id=\"T_f340f_row7_col2\" class=\"data row7 col2\" >-0.725155</td>\n",
              "      <td id=\"T_f340f_row7_col3\" class=\"data row7 col3\" >-0.083101</td>\n",
              "      <td id=\"T_f340f_row7_col4\" class=\"data row7 col4\" >-0.777062</td>\n",
              "      <td id=\"T_f340f_row7_col5\" class=\"data row7 col5\" >0.233970</td>\n",
              "      <td id=\"T_f340f_row7_col6\" class=\"data row7 col6\" >-0.766670</td>\n",
              "      <td id=\"T_f340f_row7_col7\" class=\"data row7 col7\" >1.000000</td>\n",
              "      <td id=\"T_f340f_row7_col8\" class=\"data row7 col8\" >-0.511179</td>\n",
              "      <td id=\"T_f340f_row7_col9\" class=\"data row7 col9\" >-0.543668</td>\n",
              "      <td id=\"T_f340f_row7_col10\" class=\"data row7 col10\" >-0.243067</td>\n",
              "      <td id=\"T_f340f_row7_col11\" class=\"data row7 col11\" >0.295995</td>\n",
              "      <td id=\"T_f340f_row7_col12\" class=\"data row7 col12\" >-0.507075</td>\n",
              "      <td id=\"T_f340f_row7_col13\" class=\"data row7 col13\" >0.253900</td>\n",
              "    </tr>\n",
              "    <tr>\n",
              "      <th id=\"T_f340f_level0_row8\" class=\"row_heading level0 row8\" >8</th>\n",
              "      <td id=\"T_f340f_row8_col0\" class=\"data row8 col0\" >0.609689</td>\n",
              "      <td id=\"T_f340f_row8_col1\" class=\"data row8 col1\" >-0.311091</td>\n",
              "      <td id=\"T_f340f_row8_col2\" class=\"data row8 col2\" >0.599226</td>\n",
              "      <td id=\"T_f340f_row8_col3\" class=\"data row8 col3\" >-0.024851</td>\n",
              "      <td id=\"T_f340f_row8_col4\" class=\"data row8 col4\" >0.616535</td>\n",
              "      <td id=\"T_f340f_row8_col5\" class=\"data row8 col5\" >-0.243990</td>\n",
              "      <td id=\"T_f340f_row8_col6\" class=\"data row8 col6\" >0.462188</td>\n",
              "      <td id=\"T_f340f_row8_col7\" class=\"data row8 col7\" >-0.511179</td>\n",
              "      <td id=\"T_f340f_row8_col8\" class=\"data row8 col8\" >1.000000</td>\n",
              "      <td id=\"T_f340f_row8_col9\" class=\"data row8 col9\" >0.922676</td>\n",
              "      <td id=\"T_f340f_row8_col10\" class=\"data row8 col10\" >0.449908</td>\n",
              "      <td id=\"T_f340f_row8_col11\" class=\"data row8 col11\" >-0.478245</td>\n",
              "      <td id=\"T_f340f_row8_col12\" class=\"data row8 col12\" >0.490250</td>\n",
              "      <td id=\"T_f340f_row8_col13\" class=\"data row8 col13\" >-0.375515</td>\n",
              "    </tr>\n",
              "    <tr>\n",
              "      <th id=\"T_f340f_level0_row9\" class=\"row_heading level0 row9\" >9</th>\n",
              "      <td id=\"T_f340f_row9_col0\" class=\"data row9 col0\" >0.575652</td>\n",
              "      <td id=\"T_f340f_row9_col1\" class=\"data row9 col1\" >-0.303522</td>\n",
              "      <td id=\"T_f340f_row9_col2\" class=\"data row9 col2\" >0.701362</td>\n",
              "      <td id=\"T_f340f_row9_col3\" class=\"data row9 col3\" >-0.051343</td>\n",
              "      <td id=\"T_f340f_row9_col4\" class=\"data row9 col4\" >0.673471</td>\n",
              "      <td id=\"T_f340f_row9_col5\" class=\"data row9 col5\" >-0.307904</td>\n",
              "      <td id=\"T_f340f_row9_col6\" class=\"data row9 col6\" >0.512746</td>\n",
              "      <td id=\"T_f340f_row9_col7\" class=\"data row9 col7\" >-0.543668</td>\n",
              "      <td id=\"T_f340f_row9_col8\" class=\"data row9 col8\" >0.922676</td>\n",
              "      <td id=\"T_f340f_row9_col9\" class=\"data row9 col9\" >1.000000</td>\n",
              "      <td id=\"T_f340f_row9_col10\" class=\"data row9 col10\" >0.440499</td>\n",
              "      <td id=\"T_f340f_row9_col11\" class=\"data row9 col11\" >-0.471777</td>\n",
              "      <td id=\"T_f340f_row9_col12\" class=\"data row9 col12\" >0.534752</td>\n",
              "      <td id=\"T_f340f_row9_col13\" class=\"data row9 col13\" >-0.448737</td>\n",
              "    </tr>\n",
              "    <tr>\n",
              "      <th id=\"T_f340f_level0_row10\" class=\"row_heading level0 row10\" >10</th>\n",
              "      <td id=\"T_f340f_row10_col0\" class=\"data row10 col0\" >0.273447</td>\n",
              "      <td id=\"T_f340f_row10_col1\" class=\"data row10 col1\" >-0.403139</td>\n",
              "      <td id=\"T_f340f_row10_col2\" class=\"data row10 col2\" >0.379284</td>\n",
              "      <td id=\"T_f340f_row10_col3\" class=\"data row10 col3\" >-0.122008</td>\n",
              "      <td id=\"T_f340f_row10_col4\" class=\"data row10 col4\" >0.188160</td>\n",
              "      <td id=\"T_f340f_row10_col5\" class=\"data row10 col5\" >-0.367256</td>\n",
              "      <td id=\"T_f340f_row10_col6\" class=\"data row10 col6\" >0.282193</td>\n",
              "      <td id=\"T_f340f_row10_col7\" class=\"data row10 col7\" >-0.243067</td>\n",
              "      <td id=\"T_f340f_row10_col8\" class=\"data row10 col8\" >0.449908</td>\n",
              "      <td id=\"T_f340f_row10_col9\" class=\"data row10 col9\" >0.440499</td>\n",
              "      <td id=\"T_f340f_row10_col10\" class=\"data row10 col10\" >1.000000</td>\n",
              "      <td id=\"T_f340f_row10_col11\" class=\"data row10 col11\" >-0.178060</td>\n",
              "      <td id=\"T_f340f_row10_col12\" class=\"data row10 col12\" >0.365873</td>\n",
              "      <td id=\"T_f340f_row10_col13\" class=\"data row10 col13\" >-0.493990</td>\n",
              "    </tr>\n",
              "    <tr>\n",
              "      <th id=\"T_f340f_level0_row11\" class=\"row_heading level0 row11\" >11</th>\n",
              "      <td id=\"T_f340f_row11_col0\" class=\"data row11 col0\" >-0.390613</td>\n",
              "      <td id=\"T_f340f_row11_col1\" class=\"data row11 col1\" >0.176006</td>\n",
              "      <td id=\"T_f340f_row11_col2\" class=\"data row11 col2\" >-0.372885</td>\n",
              "      <td id=\"T_f340f_row11_col3\" class=\"data row11 col3\" >0.037832</td>\n",
              "      <td id=\"T_f340f_row11_col4\" class=\"data row11 col4\" >-0.409479</td>\n",
              "      <td id=\"T_f340f_row11_col5\" class=\"data row11 col5\" >0.145525</td>\n",
              "      <td id=\"T_f340f_row11_col6\" class=\"data row11 col6\" >-0.278403</td>\n",
              "      <td id=\"T_f340f_row11_col7\" class=\"data row11 col7\" >0.295995</td>\n",
              "      <td id=\"T_f340f_row11_col8\" class=\"data row11 col8\" >-0.478245</td>\n",
              "      <td id=\"T_f340f_row11_col9\" class=\"data row11 col9\" >-0.471777</td>\n",
              "      <td id=\"T_f340f_row11_col10\" class=\"data row11 col10\" >-0.178060</td>\n",
              "      <td id=\"T_f340f_row11_col11\" class=\"data row11 col11\" >1.000000</td>\n",
              "      <td id=\"T_f340f_row11_col12\" class=\"data row11 col12\" >-0.376081</td>\n",
              "      <td id=\"T_f340f_row11_col13\" class=\"data row11 col13\" >0.343953</td>\n",
              "    </tr>\n",
              "    <tr>\n",
              "      <th id=\"T_f340f_level0_row12\" class=\"row_heading level0 row12\" >12</th>\n",
              "      <td id=\"T_f340f_row12_col0\" class=\"data row12 col0\" >0.434384</td>\n",
              "      <td id=\"T_f340f_row12_col1\" class=\"data row12 col1\" >-0.415237</td>\n",
              "      <td id=\"T_f340f_row12_col2\" class=\"data row12 col2\" >0.603129</td>\n",
              "      <td id=\"T_f340f_row12_col3\" class=\"data row12 col3\" >-0.011017</td>\n",
              "      <td id=\"T_f340f_row12_col4\" class=\"data row12 col4\" >0.592994</td>\n",
              "      <td id=\"T_f340f_row12_col5\" class=\"data row12 col5\" >-0.610844</td>\n",
              "      <td id=\"T_f340f_row12_col6\" class=\"data row12 col6\" >0.590898</td>\n",
              "      <td id=\"T_f340f_row12_col7\" class=\"data row12 col7\" >-0.507075</td>\n",
              "      <td id=\"T_f340f_row12_col8\" class=\"data row12 col8\" >0.490250</td>\n",
              "      <td id=\"T_f340f_row12_col9\" class=\"data row12 col9\" >0.534752</td>\n",
              "      <td id=\"T_f340f_row12_col10\" class=\"data row12 col10\" >0.365873</td>\n",
              "      <td id=\"T_f340f_row12_col11\" class=\"data row12 col11\" >-0.376081</td>\n",
              "      <td id=\"T_f340f_row12_col12\" class=\"data row12 col12\" >1.000000</td>\n",
              "      <td id=\"T_f340f_row12_col13\" class=\"data row12 col13\" >-0.730793</td>\n",
              "    </tr>\n",
              "    <tr>\n",
              "      <th id=\"T_f340f_level0_row13\" class=\"row_heading level0 row13\" >target</th>\n",
              "      <td id=\"T_f340f_row13_col0\" class=\"data row13 col0\" >-0.378498</td>\n",
              "      <td id=\"T_f340f_row13_col1\" class=\"data row13 col1\" >0.380299</td>\n",
              "      <td id=\"T_f340f_row13_col2\" class=\"data row13 col2\" >-0.476743</td>\n",
              "      <td id=\"T_f340f_row13_col3\" class=\"data row13 col3\" >0.168661</td>\n",
              "      <td id=\"T_f340f_row13_col4\" class=\"data row13 col4\" >-0.438328</td>\n",
              "      <td id=\"T_f340f_row13_col5\" class=\"data row13 col5\" >0.681483</td>\n",
              "      <td id=\"T_f340f_row13_col6\" class=\"data row13 col6\" >-0.364173</td>\n",
              "      <td id=\"T_f340f_row13_col7\" class=\"data row13 col7\" >0.253900</td>\n",
              "      <td id=\"T_f340f_row13_col8\" class=\"data row13 col8\" >-0.375515</td>\n",
              "      <td id=\"T_f340f_row13_col9\" class=\"data row13 col9\" >-0.448737</td>\n",
              "      <td id=\"T_f340f_row13_col10\" class=\"data row13 col10\" >-0.493990</td>\n",
              "      <td id=\"T_f340f_row13_col11\" class=\"data row13 col11\" >0.343953</td>\n",
              "      <td id=\"T_f340f_row13_col12\" class=\"data row13 col12\" >-0.730793</td>\n",
              "      <td id=\"T_f340f_row13_col13\" class=\"data row13 col13\" >1.000000</td>\n",
              "    </tr>\n",
              "  </tbody>\n",
              "</table>\n"
            ]
          },
          "metadata": {},
          "execution_count": 134
        }
      ]
    },
    {
      "cell_type": "markdown",
      "source": [
        "## Analytic solv (normal equation)\n",
        "$$W =(X^TX)^{-1} X^TY$$\n",
        "$$b = \\hat{Y} - WX^T$$"
      ],
      "metadata": {
        "id": "uMhNTjHz20aD"
      }
    },
    {
      "cell_type": "code",
      "source": [
        "# coef\n",
        "coef = (np.linalg.inv(train_data.T @ train_data) ) @ train_data.T @ train_targets\n",
        "coef"
      ],
      "metadata": {
        "id": "4XQhtUFjxWLM",
        "colab": {
          "base_uri": "https://localhost:8080/"
        },
        "outputId": "b4672b0a-9c97-4bc6-f5d1-01142f0256b0"
      },
      "execution_count": null,
      "outputs": [
        {
          "output_type": "execute_result",
          "data": {
            "text/plain": [
              "array([-1.10749194,  1.35308963,  0.02710126,  0.9943535 , -2.40156557,\n",
              "        2.3962877 ,  0.2111952 , -3.47121628,  2.90814885, -1.95741889,\n",
              "       -1.98298545,  0.81955092, -4.02739073])"
            ]
          },
          "metadata": {},
          "execution_count": 135
        }
      ]
    },
    {
      "cell_type": "code",
      "source": [
        "# intercept\n",
        "intercept = train_targets.mean() - (coef @ train_data.T).mean()\n",
        "intercept"
      ],
      "metadata": {
        "id": "GuaUUbsoySl1",
        "colab": {
          "base_uri": "https://localhost:8080/"
        },
        "outputId": "06fc92de-05f5-4eac-d6f6-3caeefd3032e"
      },
      "execution_count": null,
      "outputs": [
        {
          "output_type": "execute_result",
          "data": {
            "text/plain": [
              "22.39504950495051"
            ]
          },
          "metadata": {},
          "execution_count": 136
        }
      ]
    },
    {
      "cell_type": "code",
      "source": [
        "1 - (((coef @ train_data.T + intercept) - train_targets ) ** 2).mean() / (((train_targets.mean()) - train_targets ) ** 2).mean()"
      ],
      "metadata": {
        "colab": {
          "base_uri": "https://localhost:8080/"
        },
        "id": "lmaHR1s20e1I",
        "outputId": "2b2b5136-d61f-48c2-c9aa-eef5c9a2c95c"
      },
      "execution_count": null,
      "outputs": [
        {
          "output_type": "execute_result",
          "data": {
            "text/plain": [
              "0.7399643695249464"
            ]
          },
          "metadata": {},
          "execution_count": 137
        }
      ]
    },
    {
      "cell_type": "code",
      "source": [
        "from sklearn.metrics import r2_score # use sklearn ready metrics\n",
        "r2_score(train_targets, coef @ train_data.T + intercept), r2_score(test_targets, coef @ scaler.transform(test_data).T + intercept)"
      ],
      "metadata": {
        "colab": {
          "base_uri": "https://localhost:8080/"
        },
        "id": "JUBnJ4N_1Grr",
        "outputId": "17c83d03-d77a-4a9c-b5cf-fdb015a1226e"
      },
      "execution_count": null,
      "outputs": [
        {
          "output_type": "execute_result",
          "data": {
            "text/plain": [
              "(0.7399643695249463, 0.7213535934621509)"
            ]
          },
          "metadata": {},
          "execution_count": 138
        }
      ]
    },
    {
      "cell_type": "code",
      "source": [
        "from sklearn.decomposition import PCA\n",
        "import matplotlib.pyplot as plt\n",
        "\n",
        "pca = PCA(n_components=1) # we can reduce data dimensionality for visualization\n",
        "pca_data_vs = pca.fit_transform(train_data)\n",
        "\n",
        "plt.scatter(pca_data_vs, train_targets);\n",
        "plt.plot(\n",
        "  np.linspace(-7, 7, 100),\n",
        "  pca.transform(\n",
        "  coef.reshape(1, -1)).ravel() * np.linspace(-7, 7, 100) + intercept,\n",
        "  c=\"r\",\n",
        "  ls=\"--\"\n",
        "  );"
      ],
      "metadata": {
        "colab": {
          "base_uri": "https://localhost:8080/",
          "height": 430
        },
        "id": "APDnJIllG50p",
        "outputId": "bd0324e5-bd45-4f59-d87f-e091af84251c"
      },
      "execution_count": null,
      "outputs": [
        {
          "output_type": "display_data",
          "data": {
            "text/plain": [
              "<Figure size 640x480 with 1 Axes>"
            ],
            "image/png": "[encoded data removed]"
          },
          "metadata": {}
        }
      ]
    },
    {
      "cell_type": "code",
      "source": [
        "from sklearn.linear_model import LinearRegression\n",
        "# In sklearn linear regression has automatic standartize scaler\n",
        "lg = LinearRegression()\n",
        "lg.fit(train_data, train_targets)"
      ],
      "metadata": {
        "colab": {
          "base_uri": "https://localhost:8080/",
          "height": 75
        },
        "id": "eZH_Az_b2jxc",
        "outputId": "8420c992-7189-45ec-f74b-98eee9178172"
      },
      "execution_count": null,
      "outputs": [
        {
          "output_type": "execute_result",
          "data": {
            "text/plain": [
              "LinearRegression()"
            ],
            "text/html": [
              "<style>#sk-container-id-1 {color: black;background-color: white;}#sk-container-id-1 pre{padding: 0;}#sk-container-id-1 div.sk-toggleable {background-color: white;}#sk-container-id-1 label.sk-toggleable__label {cursor: pointer;display: block;width: 100%;margin-bottom: 0;padding: 0.3em;box-sizing: border-box;text-align: center;}#sk-container-id-1 label.sk-toggleable__label-arrow:before {content: \"▸\";float: left;margin-right: 0.25em;color: #696969;}#sk-container-id-1 label.sk-toggleable__label-arrow:hover:before {color: black;}#sk-container-id-1 div.sk-estimator:hover label.sk-toggleable__label-arrow:before {color: black;}#sk-container-id-1 div.sk-toggleable__content {max-height: 0;max-width: 0;overflow: hidden;text-align: left;background-color: #f0f8ff;}#sk-container-id-1 div.sk-toggleable__content pre {margin: 0.2em;color: black;border-radius: 0.25em;background-color: #f0f8ff;}#sk-container-id-1 input.sk-toggleable__control:checked~div.sk-toggleable__content {max-height: 200px;max-width: 100%;overflow: auto;}#sk-container-id-1 input.sk-toggleable__control:checked~label.sk-toggleable__label-arrow:before {content: \"▾\";}#sk-container-id-1 div.sk-estimator input.sk-toggleable__control:checked~label.sk-toggleable__label {background-color: #d4ebff;}#sk-container-id-1 div.sk-label input.sk-toggleable__control:checked~label.sk-toggleable__label {background-color: #d4ebff;}#sk-container-id-1 input.sk-hidden--visually {border: 0;clip: rect(1px 1px 1px 1px);clip: rect(1px, 1px, 1px, 1px);height: 1px;margin: -1px;overflow: hidden;padding: 0;position: absolute;width: 1px;}#sk-container-id-1 div.sk-estimator {font-family: monospace;background-color: #f0f8ff;border: 1px dotted black;border-radius: 0.25em;box-sizing: border-box;margin-bottom: 0.5em;}#sk-container-id-1 div.sk-estimator:hover {background-color: #d4ebff;}#sk-container-id-1 div.sk-parallel-item::after {content: \"\";width: 100%;border-bottom: 1px solid gray;flex-grow: 1;}#sk-container-id-1 div.sk-label:hover label.sk-toggleable__label {background-color: #d4ebff;}#sk-container-id-1 div.sk-serial::before {content: \"\";position: absolute;border-left: 1px solid gray;box-sizing: border-box;top: 0;bottom: 0;left: 50%;z-index: 0;}#sk-container-id-1 div.sk-serial {display: flex;flex-direction: column;align-items: center;background-color: white;padding-right: 0.2em;padding-left: 0.2em;position: relative;}#sk-container-id-1 div.sk-item {position: relative;z-index: 1;}#sk-container-id-1 div.sk-parallel {display: flex;align-items: stretch;justify-content: center;background-color: white;position: relative;}#sk-container-id-1 div.sk-item::before, #sk-container-id-1 div.sk-parallel-item::before {content: \"\";position: absolute;border-left: 1px solid gray;box-sizing: border-box;top: 0;bottom: 0;left: 50%;z-index: -1;}#sk-container-id-1 div.sk-parallel-item {display: flex;flex-direction: column;z-index: 1;position: relative;background-color: white;}#sk-container-id-1 div.sk-parallel-item:first-child::after {align-self: flex-end;width: 50%;}#sk-container-id-1 div.sk-parallel-item:last-child::after {align-self: flex-start;width: 50%;}#sk-container-id-1 div.sk-parallel-item:only-child::after {width: 0;}#sk-container-id-1 div.sk-dashed-wrapped {border: 1px dashed gray;margin: 0 0.4em 0.5em 0.4em;box-sizing: border-box;padding-bottom: 0.4em;background-color: white;}#sk-container-id-1 div.sk-label label {font-family: monospace;font-weight: bold;display: inline-block;line-height: 1.2em;}#sk-container-id-1 div.sk-label-container {text-align: center;}#sk-container-id-1 div.sk-container {/* jupyter's `normalize.less` sets `[hidden] { display: none; }` but bootstrap.min.css set `[hidden] { display: none !important; }` so we also need the `!important` here to be able to override the default hidden behavior on the sphinx rendered scikit-learn.org. See: https://github.com/scikit-learn/scikit-learn/issues/21755 */display: inline-block !important;position: relative;}#sk-container-id-1 div.sk-text-repr-fallback {display: none;}</style><div id=\"sk-container-id-1\" class=\"sk-top-container\"><div class=\"sk-text-repr-fallback\"><pre>LinearRegression()</pre><b>In a Jupyter environment, please rerun this cell to show the HTML representation or trust the notebook. <br />On GitHub, the HTML representation is unable to render, please try loading this page with nbviewer.org.</b></div><div class=\"sk-container\" hidden><div class=\"sk-item\"><div class=\"sk-estimator sk-toggleable\"><input class=\"sk-toggleable__control sk-hidden--visually\" id=\"sk-estimator-id-1\" type=\"checkbox\" checked><label for=\"sk-estimator-id-1\" class=\"sk-toggleable__label sk-toggleable__label-arrow\">LinearRegression</label><div class=\"sk-toggleable__content\"><pre>LinearRegression()</pre></div></div></div></div></div>"
            ]
          },
          "metadata": {},
          "execution_count": 13
        }
      ]
    },
    {
      "cell_type": "code",
      "source": [
        "lg.score(train_data, train_targets), lg.score(scaler.transform(test_data), test_targets)"
      ],
      "metadata": {
        "colab": {
          "base_uri": "https://localhost:8080/"
        },
        "id": "SDaF4EyU3fE_",
        "outputId": "dd4a347a-da41-4288-fe2f-79859048f5aa"
      },
      "execution_count": null,
      "outputs": [
        {
          "output_type": "execute_result",
          "data": {
            "text/plain": [
              "(0.7399643695249463, 0.7213535934621552)"
            ]
          },
          "metadata": {},
          "execution_count": 14
        }
      ]
    },
    {
      "cell_type": "code",
      "source": [
        "lg.coef_, lg.intercept_ # we have the same solution"
      ],
      "metadata": {
        "colab": {
          "base_uri": "https://localhost:8080/"
        },
        "id": "dRndV55K3kVc",
        "outputId": "296a694e-d9bb-45d2-af61-9df11d133080"
      },
      "execution_count": null,
      "outputs": [
        {
          "output_type": "execute_result",
          "data": {
            "text/plain": [
              "(array([-1.10749194,  1.35308963,  0.02710126,  0.9943535 , -2.40156557,\n",
              "         2.3962877 ,  0.2111952 , -3.47121628,  2.90814885, -1.95741889,\n",
              "        -1.98298545,  0.81955092, -4.02739073]),\n",
              " 22.39504950495051)"
            ]
          },
          "metadata": {},
          "execution_count": 15
        }
      ]
    },
    {
      "cell_type": "markdown",
      "source": [
        "## Solution with **Gradient Descent**\n",
        "to start, let's get acquainted 3 form of Gradient Descent\n",
        "## Gradient Descent Methods\n",
        "\n",
        "- **Batch Gradient Descent** computes the gradient of the cost function using the entire dataset, leading to a stable but potentially slow convergence.\n",
        "\n",
        "- **Stochastic Gradient Descent (SGD)** updates the model parameters using only a single training example at each iteration, which can result in faster convergence but higher variance in the updates.\n",
        "\n",
        "- **Mini-Batch Gradient Descent** is a compromise between Batch and Stochastic Gradient Descent, using a small subset of the dataset (mini-batch) for each update, balancing between stability and speed.\n"
      ],
      "metadata": {
        "id": "IHdPJm48ySS9"
      }
    },
    {
      "cell_type": "code",
      "source": [
        "def batch_GD(X, y, w, b, learning_rate):\n",
        "  n = X.shape[0]\n",
        "  dw = X.T @ (w @ X.T  + b - y)\n",
        "  db = (w @ X.T  + b - y).sum()\n",
        "  w -= learning_rate * dw / n\n",
        "  b -= learning_rate * db / n\n",
        "  return w, b\n",
        "\n",
        "\n",
        "def learning_schedule(t, t0: int = 5, t1: int = 50):\n",
        "  return t0 / (t + t1)\n",
        "\n",
        "\n",
        "def stochastic_GD(X, y, w, b, epoch):\n",
        "  n = X.shape[0]\n",
        "  for i in range(n):\n",
        "    r = np.random.randint(n)\n",
        "    px, py = X[r:r+1], y[r:r+1]\n",
        "    dw = px.T @ (w @ px.T + b - py)\n",
        "    db = (w @ px.T + b - py).sum()\n",
        "    learning_rate = learning_schedule(i + epoch * n)\n",
        "    w -= learning_rate * dw\n",
        "    b -= learning_rate * db\n",
        "  return w, b"
      ],
      "metadata": {
        "id": "5Al5jFx54y8f"
      },
      "execution_count": null,
      "outputs": []
    },
    {
      "cell_type": "code",
      "source": [
        "# Batch Gradient Descent\n",
        "learning_rate = 0.1\n",
        "epoch = 1000\n",
        "X, y = train_data.copy(), train_targets.copy()\n",
        "m = X.shape[1]\n",
        "w, b = np.full(m, 0.5), 0.5\n",
        "\n",
        "for e in range(epoch):\n",
        "  w, b = batch_GD(X, y, w, b, learning_rate)\n",
        "w, b"
      ],
      "metadata": {
        "colab": {
          "base_uri": "https://localhost:8080/"
        },
        "id": "UekBHq9s4OAS",
        "outputId": "d3b7ecd0-9033-4324-d78f-48950f80e0e7"
      },
      "execution_count": null,
      "outputs": [
        {
          "output_type": "execute_result",
          "data": {
            "text/plain": [
              "(array([-1.10717463,  1.35237005,  0.02529524,  0.99466402, -2.40151994,\n",
              "         2.39668833,  0.210649  , -3.4716424 ,  2.90219153, -1.95077482,\n",
              "        -1.98279702,  0.81946292, -4.02712942]),\n",
              " 22.395049504950496)"
            ]
          },
          "metadata": {},
          "execution_count": 151
        }
      ]
    },
    {
      "cell_type": "code",
      "source": [
        "# Stochastic Gradient Descent\n",
        "epoch = 1000\n",
        "X, y = train_data.copy(), train_targets.copy()\n",
        "m = X.shape[1]\n",
        "w, b = np.full(m, 0.5), 0.5\n",
        "\n",
        "for e in range(epoch):\n",
        "  w, b = stochastic_GD(X, y, w, b, e)\n",
        "w, b"
      ],
      "metadata": {
        "colab": {
          "base_uri": "https://localhost:8080/"
        },
        "id": "VsxzP3I086Wi",
        "outputId": "ae9f4a48-bdef-4f71-ea76-b7b4460cf162"
      },
      "execution_count": null,
      "outputs": [
        {
          "output_type": "execute_result",
          "data": {
            "text/plain": [
              "(array([-1.11197611,  1.36812252,  0.09880617,  0.96120902, -2.4063617 ,\n",
              "         2.37634992,  0.23036681, -3.45077095,  3.12415983, -2.22393052,\n",
              "        -1.98759348,  0.80172675, -3.99731694]),\n",
              " 22.4077186564424)"
            ]
          },
          "metadata": {},
          "execution_count": 152
        }
      ]
    },
    {
      "cell_type": "markdown",
      "source": [
        "As we can see, stochastic gradient descent does not provide as accurate results because it is not stable. However, it has advantages such as not getting stuck in local minima and having a higher chance of finding the global minimum.\n"
      ],
      "metadata": {
        "id": "k-JxPDqpdwEX"
      }
    },
    {
      "cell_type": "markdown",
      "source": [],
      "metadata": {
        "id": "XTFg37wwyQwP"
      }
    },
    {
      "cell_type": "markdown",
      "source": [
        "## Tenserflow analog"
      ],
      "metadata": {
        "id": "-fDuJ0oG7SyI"
      }
    },
    {
      "cell_type": "code",
      "source": [
        "import tensorflow as tf\n",
        "n = train_data.shape[1]\n",
        "model = tf.keras.Sequential([\n",
        "    tf.keras.layers.Dense(1, input_shape=(n, ))\n",
        "])\n",
        "\n",
        "model.compile(optimizer='sgd', loss='mean_squared_error')\n"
      ],
      "metadata": {
        "id": "9qh_yRGt7WKm"
      },
      "execution_count": null,
      "outputs": []
    },
    {
      "cell_type": "code",
      "source": [
        "history = model.fit(train_data, train_targets, epochs=100, validation_data=(scaler.transform(test_data), test_targets))"
      ],
      "metadata": {
        "colab": {
          "base_uri": "https://localhost:8080/"
        },
        "collapsed": true,
        "id": "P3w-2WHiCV4x",
        "outputId": "48674f51-32f3-4982-f4dd-79170a1cbfa7"
      },
      "execution_count": null,
      "outputs": [
        {
          "output_type": "stream",
          "name": "stdout",
          "text": [
            "Epoch 1/100\n",
            "13/13 [==============================] - 1s 33ms/step - loss: 461.3260 - val_loss: 340.5245\n",
            "Epoch 2/100\n",
            "13/13 [==============================] - 0s 7ms/step - loss: 277.4942 - val_loss: 207.7662\n",
            "Epoch 3/100\n",
            "13/13 [==============================] - 0s 7ms/step - loss: 173.8019 - val_loss: 131.7068\n",
            "Epoch 4/100\n",
            "13/13 [==============================] - 0s 7ms/step - loss: 113.0247 - val_loss: 85.6067\n",
            "Epoch 5/100\n",
            "13/13 [==============================] - 0s 7ms/step - loss: 76.8997 - val_loss: 58.1056\n",
            "Epoch 6/100\n",
            "13/13 [==============================] - 0s 7ms/step - loss: 55.6689 - val_loss: 43.2904\n",
            "Epoch 7/100\n",
            "13/13 [==============================] - 0s 11ms/step - loss: 42.7994 - val_loss: 34.5526\n",
            "Epoch 8/100\n",
            "13/13 [==============================] - 0s 7ms/step - loss: 35.2848 - val_loss: 28.9368\n",
            "Epoch 9/100\n",
            "13/13 [==============================] - 0s 7ms/step - loss: 30.5628 - val_loss: 24.6711\n",
            "Epoch 10/100\n",
            "13/13 [==============================] - 0s 7ms/step - loss: 27.9305 - val_loss: 24.1706\n",
            "Epoch 11/100\n",
            "13/13 [==============================] - 0s 8ms/step - loss: 26.2466 - val_loss: 22.7421\n",
            "Epoch 12/100\n",
            "13/13 [==============================] - 0s 8ms/step - loss: 25.2410 - val_loss: 23.0401\n",
            "Epoch 13/100\n",
            "13/13 [==============================] - 0s 6ms/step - loss: 24.4755 - val_loss: 22.4461\n",
            "Epoch 14/100\n",
            "13/13 [==============================] - 0s 6ms/step - loss: 24.1881 - val_loss: 22.1124\n",
            "Epoch 15/100\n",
            "13/13 [==============================] - 0s 6ms/step - loss: 23.8443 - val_loss: 21.3581\n",
            "Epoch 16/100\n",
            "13/13 [==============================] - 0s 6ms/step - loss: 23.6760 - val_loss: 22.2213\n",
            "Epoch 17/100\n",
            "13/13 [==============================] - 0s 6ms/step - loss: 23.4807 - val_loss: 21.8944\n",
            "Epoch 18/100\n",
            "13/13 [==============================] - 0s 7ms/step - loss: 23.3272 - val_loss: 21.7389\n",
            "Epoch 19/100\n",
            "13/13 [==============================] - 0s 5ms/step - loss: 23.2717 - val_loss: 21.6241\n",
            "Epoch 20/100\n",
            "13/13 [==============================] - 0s 6ms/step - loss: 23.2022 - val_loss: 21.8035\n",
            "Epoch 21/100\n",
            "13/13 [==============================] - 0s 8ms/step - loss: 23.1919 - val_loss: 22.0785\n",
            "Epoch 22/100\n",
            "13/13 [==============================] - 0s 7ms/step - loss: 23.0798 - val_loss: 21.8028\n",
            "Epoch 23/100\n",
            "13/13 [==============================] - 0s 6ms/step - loss: 23.0902 - val_loss: 22.0760\n",
            "Epoch 24/100\n",
            "13/13 [==============================] - 0s 7ms/step - loss: 22.9337 - val_loss: 21.8181\n",
            "Epoch 25/100\n",
            "13/13 [==============================] - 0s 6ms/step - loss: 22.9045 - val_loss: 22.6003\n",
            "Epoch 26/100\n",
            "13/13 [==============================] - 0s 7ms/step - loss: 22.8636 - val_loss: 22.2201\n",
            "Epoch 27/100\n",
            "13/13 [==============================] - 0s 6ms/step - loss: 22.8662 - val_loss: 22.7947\n",
            "Epoch 28/100\n",
            "13/13 [==============================] - 0s 7ms/step - loss: 22.8651 - val_loss: 22.5353\n",
            "Epoch 29/100\n",
            "13/13 [==============================] - 0s 8ms/step - loss: 22.7426 - val_loss: 22.6992\n",
            "Epoch 30/100\n",
            "13/13 [==============================] - 0s 6ms/step - loss: 22.7872 - val_loss: 22.6187\n",
            "Epoch 31/100\n",
            "13/13 [==============================] - 0s 7ms/step - loss: 22.7151 - val_loss: 22.3458\n",
            "Epoch 32/100\n",
            "13/13 [==============================] - 0s 7ms/step - loss: 22.7833 - val_loss: 22.4592\n",
            "Epoch 33/100\n",
            "13/13 [==============================] - 0s 8ms/step - loss: 22.6107 - val_loss: 22.4082\n",
            "Epoch 34/100\n",
            "13/13 [==============================] - 0s 7ms/step - loss: 22.5823 - val_loss: 22.6069\n",
            "Epoch 35/100\n",
            "13/13 [==============================] - 0s 6ms/step - loss: 22.6482 - val_loss: 23.1884\n",
            "Epoch 36/100\n",
            "13/13 [==============================] - 0s 7ms/step - loss: 22.6928 - val_loss: 22.4715\n",
            "Epoch 37/100\n",
            "13/13 [==============================] - 0s 6ms/step - loss: 22.6036 - val_loss: 22.4674\n",
            "Epoch 38/100\n",
            "13/13 [==============================] - 0s 7ms/step - loss: 22.6701 - val_loss: 22.6275\n",
            "Epoch 39/100\n",
            "13/13 [==============================] - 0s 7ms/step - loss: 22.5582 - val_loss: 21.6825\n",
            "Epoch 40/100\n",
            "13/13 [==============================] - 0s 6ms/step - loss: 22.5272 - val_loss: 22.1949\n",
            "Epoch 41/100\n",
            "13/13 [==============================] - 0s 6ms/step - loss: 22.4540 - val_loss: 22.7802\n",
            "Epoch 42/100\n",
            "13/13 [==============================] - 0s 7ms/step - loss: 22.4731 - val_loss: 22.3254\n",
            "Epoch 43/100\n",
            "13/13 [==============================] - 0s 8ms/step - loss: 22.6406 - val_loss: 22.9842\n",
            "Epoch 44/100\n",
            "13/13 [==============================] - 0s 9ms/step - loss: 22.4627 - val_loss: 22.9722\n",
            "Epoch 45/100\n",
            "13/13 [==============================] - 0s 7ms/step - loss: 22.4882 - val_loss: 22.9422\n",
            "Epoch 46/100\n",
            "13/13 [==============================] - 0s 7ms/step - loss: 22.4498 - val_loss: 22.7012\n",
            "Epoch 47/100\n",
            "13/13 [==============================] - 0s 5ms/step - loss: 22.3780 - val_loss: 22.8460\n",
            "Epoch 48/100\n",
            "13/13 [==============================] - 0s 4ms/step - loss: 22.4130 - val_loss: 22.3218\n",
            "Epoch 49/100\n",
            "13/13 [==============================] - 0s 5ms/step - loss: 22.4486 - val_loss: 23.2517\n",
            "Epoch 50/100\n",
            "13/13 [==============================] - 0s 4ms/step - loss: 22.4641 - val_loss: 22.7687\n",
            "Epoch 51/100\n",
            "13/13 [==============================] - 0s 4ms/step - loss: 22.4329 - val_loss: 22.3625\n",
            "Epoch 52/100\n",
            "13/13 [==============================] - 0s 4ms/step - loss: 22.4027 - val_loss: 23.1259\n",
            "Epoch 53/100\n",
            "13/13 [==============================] - 0s 5ms/step - loss: 22.3705 - val_loss: 22.3742\n",
            "Epoch 54/100\n",
            "13/13 [==============================] - 0s 5ms/step - loss: 22.4547 - val_loss: 23.1357\n",
            "Epoch 55/100\n",
            "13/13 [==============================] - 0s 4ms/step - loss: 22.4237 - val_loss: 22.5641\n",
            "Epoch 56/100\n",
            "13/13 [==============================] - 0s 5ms/step - loss: 22.3828 - val_loss: 22.9141\n",
            "Epoch 57/100\n",
            "13/13 [==============================] - 0s 6ms/step - loss: 22.3852 - val_loss: 22.6008\n",
            "Epoch 58/100\n",
            "13/13 [==============================] - 0s 5ms/step - loss: 22.4490 - val_loss: 22.7232\n",
            "Epoch 59/100\n",
            "13/13 [==============================] - 0s 5ms/step - loss: 22.3213 - val_loss: 23.1703\n",
            "Epoch 60/100\n",
            "13/13 [==============================] - 0s 3ms/step - loss: 22.3895 - val_loss: 23.0193\n",
            "Epoch 61/100\n",
            "13/13 [==============================] - 0s 3ms/step - loss: 22.3752 - val_loss: 23.1482\n",
            "Epoch 62/100\n",
            "13/13 [==============================] - 0s 4ms/step - loss: 22.3207 - val_loss: 23.1741\n",
            "Epoch 63/100\n",
            "13/13 [==============================] - 0s 4ms/step - loss: 22.4888 - val_loss: 23.4498\n",
            "Epoch 64/100\n",
            "13/13 [==============================] - 0s 4ms/step - loss: 22.2611 - val_loss: 22.5013\n",
            "Epoch 65/100\n",
            "13/13 [==============================] - 0s 5ms/step - loss: 22.3476 - val_loss: 23.5213\n",
            "Epoch 66/100\n",
            "13/13 [==============================] - 0s 5ms/step - loss: 22.3387 - val_loss: 22.5955\n",
            "Epoch 67/100\n",
            "13/13 [==============================] - 0s 5ms/step - loss: 22.4742 - val_loss: 22.8386\n",
            "Epoch 68/100\n",
            "13/13 [==============================] - 0s 4ms/step - loss: 22.4140 - val_loss: 23.1065\n",
            "Epoch 69/100\n",
            "13/13 [==============================] - 0s 6ms/step - loss: 22.3541 - val_loss: 24.4245\n",
            "Epoch 70/100\n",
            "13/13 [==============================] - 0s 4ms/step - loss: 22.3558 - val_loss: 23.0419\n",
            "Epoch 71/100\n",
            "13/13 [==============================] - 0s 5ms/step - loss: 22.3801 - val_loss: 22.4647\n",
            "Epoch 72/100\n",
            "13/13 [==============================] - 0s 4ms/step - loss: 22.2847 - val_loss: 22.6481\n",
            "Epoch 73/100\n",
            "13/13 [==============================] - 0s 5ms/step - loss: 22.2414 - val_loss: 24.6586\n",
            "Epoch 74/100\n",
            "13/13 [==============================] - 0s 5ms/step - loss: 22.3273 - val_loss: 23.3573\n",
            "Epoch 75/100\n",
            "13/13 [==============================] - 0s 5ms/step - loss: 22.3875 - val_loss: 22.8391\n",
            "Epoch 76/100\n",
            "13/13 [==============================] - 0s 6ms/step - loss: 22.2705 - val_loss: 23.2609\n",
            "Epoch 77/100\n",
            "13/13 [==============================] - 0s 5ms/step - loss: 22.2745 - val_loss: 23.4155\n",
            "Epoch 78/100\n",
            "13/13 [==============================] - 0s 4ms/step - loss: 22.2315 - val_loss: 22.8392\n",
            "Epoch 79/100\n",
            "13/13 [==============================] - 0s 4ms/step - loss: 22.2720 - val_loss: 22.5624\n",
            "Epoch 80/100\n",
            "13/13 [==============================] - 0s 5ms/step - loss: 22.3815 - val_loss: 22.8477\n",
            "Epoch 81/100\n",
            "13/13 [==============================] - 0s 5ms/step - loss: 22.3201 - val_loss: 22.8044\n",
            "Epoch 82/100\n",
            "13/13 [==============================] - 0s 5ms/step - loss: 22.2870 - val_loss: 23.8399\n",
            "Epoch 83/100\n",
            "13/13 [==============================] - 0s 6ms/step - loss: 22.2682 - val_loss: 24.3883\n",
            "Epoch 84/100\n",
            "13/13 [==============================] - 0s 6ms/step - loss: 22.2921 - val_loss: 23.2771\n",
            "Epoch 85/100\n",
            "13/13 [==============================] - 0s 7ms/step - loss: 22.2463 - val_loss: 23.6904\n",
            "Epoch 86/100\n",
            "13/13 [==============================] - 0s 7ms/step - loss: 22.2288 - val_loss: 23.1110\n",
            "Epoch 87/100\n",
            "13/13 [==============================] - 0s 8ms/step - loss: 22.2878 - val_loss: 24.1066\n",
            "Epoch 88/100\n",
            "13/13 [==============================] - 0s 8ms/step - loss: 22.2657 - val_loss: 23.7813\n",
            "Epoch 89/100\n",
            "13/13 [==============================] - 0s 5ms/step - loss: 22.3501 - val_loss: 23.9838\n",
            "Epoch 90/100\n",
            "13/13 [==============================] - 0s 6ms/step - loss: 22.2748 - val_loss: 23.0774\n",
            "Epoch 91/100\n",
            "13/13 [==============================] - 0s 5ms/step - loss: 22.2580 - val_loss: 22.8692\n",
            "Epoch 92/100\n",
            "13/13 [==============================] - 0s 6ms/step - loss: 22.2538 - val_loss: 22.9938\n",
            "Epoch 93/100\n",
            "13/13 [==============================] - 0s 5ms/step - loss: 22.3499 - val_loss: 23.0694\n",
            "Epoch 94/100\n",
            "13/13 [==============================] - 0s 5ms/step - loss: 22.3125 - val_loss: 23.6814\n",
            "Epoch 95/100\n",
            "13/13 [==============================] - 0s 5ms/step - loss: 22.3239 - val_loss: 23.5588\n",
            "Epoch 96/100\n",
            "13/13 [==============================] - 0s 6ms/step - loss: 22.2696 - val_loss: 23.1965\n",
            "Epoch 97/100\n",
            "13/13 [==============================] - 0s 6ms/step - loss: 22.2497 - val_loss: 22.7857\n",
            "Epoch 98/100\n",
            "13/13 [==============================] - 0s 8ms/step - loss: 22.2023 - val_loss: 23.6534\n",
            "Epoch 99/100\n",
            "13/13 [==============================] - 0s 7ms/step - loss: 22.2676 - val_loss: 22.8110\n",
            "Epoch 100/100\n",
            "13/13 [==============================] - 0s 8ms/step - loss: 22.2567 - val_loss: 22.8867\n"
          ]
        }
      ]
    },
    {
      "cell_type": "code",
      "source": [
        "# Получение весов и смещений из первого (и единственного) слоя\n",
        "weights, biases = model.layers[0].get_weights()\n",
        "\n",
        "print(f'Weights: {weights}')\n",
        "print(f'Biases: {biases}')\n"
      ],
      "metadata": {
        "colab": {
          "base_uri": "https://localhost:8080/"
        },
        "id": "JpEgdiqNCbfh",
        "outputId": "da25df5b-36cb-453b-e366-7bbd8c372f3a"
      },
      "execution_count": null,
      "outputs": [
        {
          "output_type": "stream",
          "name": "stdout",
          "text": [
            "Weights: [[-1.0920247 ]\n",
            " [ 1.2938792 ]\n",
            " [-0.13442141]\n",
            " [ 1.0121812 ]\n",
            " [-2.3700361 ]\n",
            " [ 2.4550517 ]\n",
            " [ 0.17143019]\n",
            " [-3.4724493 ]\n",
            " [ 2.3911765 ]\n",
            " [-1.4276768 ]\n",
            " [-1.9868352 ]\n",
            " [ 0.8255209 ]\n",
            " [-4.0246263 ]]\n",
            "Biases: [22.400093]\n"
          ]
        }
      ]
    },
    {
      "cell_type": "code",
      "source": [
        "r2_score(train_targets, model.predict(train_data)), r2_score(test_targets, model.predict(scaler.transform(test_data)))"
      ],
      "metadata": {
        "colab": {
          "base_uri": "https://localhost:8080/"
        },
        "id": "eesc3PHgDMXB",
        "outputId": "e7fccc14-f7be-4ff8-a9d0-44a3c6ce35ef"
      },
      "execution_count": null,
      "outputs": [
        {
          "output_type": "stream",
          "name": "stdout",
          "text": [
            "13/13 [==============================] - 0s 2ms/step\n",
            "4/4 [==============================] - 0s 2ms/step\n"
          ]
        },
        {
          "output_type": "execute_result",
          "data": {
            "text/plain": [
              "(0.7394362569828093, 0.7250637762815586)"
            ]
          },
          "metadata": {},
          "execution_count": 159
        }
      ]
    },
    {
      "cell_type": "code",
      "source": [
        "plt.plot(history.history[\"loss\"], label=\"train loss\", ls=\"--\")\n",
        "plt.plot(history.history[\"val_loss\"], label=\"test loss\", ls=\"--\")\n",
        "plt.legend();"
      ],
      "metadata": {
        "colab": {
          "base_uri": "https://localhost:8080/",
          "height": 430
        },
        "id": "juCs9eI5DRVx",
        "outputId": "6134d97f-3669-47f0-feed-ad9c64e209c7"
      },
      "execution_count": null,
      "outputs": [
        {
          "output_type": "display_data",
          "data": {
            "text/plain": [
              "<Figure size 640x480 with 1 Axes>"
            ],
            "image/png": "[encoded data removed]"
          },
          "metadata": {}
        }
      ]
    },
    {
      "cell_type": "code",
      "source": [],
      "metadata": {
        "id": "9DBh2jVMDdDT"
      },
      "execution_count": null,
      "outputs": []
    }
  ]
}